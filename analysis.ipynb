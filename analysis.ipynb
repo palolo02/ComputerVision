{
 "cells": [
  {
   "cell_type": "code",
   "execution_count": 1,
   "metadata": {},
   "outputs": [],
   "source": [
    "import pandas as pd\n",
    "from sklearn.preprocessing import OneHotEncoder\n",
    "import matplotlib.pyplot as plt\n",
    "import seaborn as sbn\n",
    "import numpy as np\n",
    "from scipy.stats import f_oneway\n",
    "from scipy import stats\n",
    "from scipy.stats import pearsonr"
   ]
  },
  {
   "cell_type": "code",
   "execution_count": 2,
   "metadata": {},
   "outputs": [
    {
     "data": {
      "text/html": [
       "<div>\n",
       "<style scoped>\n",
       "    .dataframe tbody tr th:only-of-type {\n",
       "        vertical-align: middle;\n",
       "    }\n",
       "\n",
       "    .dataframe tbody tr th {\n",
       "        vertical-align: top;\n",
       "    }\n",
       "\n",
       "    .dataframe thead th {\n",
       "        text-align: right;\n",
       "    }\n",
       "</style>\n",
       "<table border=\"1\" class=\"dataframe\">\n",
       "  <thead>\n",
       "    <tr style=\"text-align: right;\">\n",
       "      <th></th>\n",
       "      <th>Patient</th>\n",
       "      <th>Age</th>\n",
       "      <th>Sex</th>\n",
       "      <th>WFNS_Group</th>\n",
       "      <th>WFNS</th>\n",
       "      <th>Aneursym_location</th>\n",
       "      <th>DCI</th>\n",
       "      <th>eGOS</th>\n",
       "      <th>SD_Day</th>\n",
       "      <th>Total_SD</th>\n",
       "      <th>Single_SD</th>\n",
       "      <th>Clusters_SD</th>\n",
       "      <th>Mean_LPRX</th>\n",
       "    </tr>\n",
       "  </thead>\n",
       "  <tbody>\n",
       "    <tr>\n",
       "      <th>0</th>\n",
       "      <td>HD-1</td>\n",
       "      <td>55</td>\n",
       "      <td>F</td>\n",
       "      <td>high-grade</td>\n",
       "      <td>4</td>\n",
       "      <td>Acom</td>\n",
       "      <td>Yes</td>\n",
       "      <td>0</td>\n",
       "      <td>4.6</td>\n",
       "      <td>46</td>\n",
       "      <td>24</td>\n",
       "      <td>22</td>\n",
       "      <td>0.18</td>\n",
       "    </tr>\n",
       "    <tr>\n",
       "      <th>1</th>\n",
       "      <td>HD-2</td>\n",
       "      <td>38</td>\n",
       "      <td>M</td>\n",
       "      <td>high-grade</td>\n",
       "      <td>4</td>\n",
       "      <td>Acom</td>\n",
       "      <td>Yes</td>\n",
       "      <td>3</td>\n",
       "      <td>1.1</td>\n",
       "      <td>6</td>\n",
       "      <td>6</td>\n",
       "      <td>0</td>\n",
       "      <td>0.10</td>\n",
       "    </tr>\n",
       "    <tr>\n",
       "      <th>2</th>\n",
       "      <td>HD-3</td>\n",
       "      <td>28</td>\n",
       "      <td>F</td>\n",
       "      <td>high-grade</td>\n",
       "      <td>5</td>\n",
       "      <td>ICA-R</td>\n",
       "      <td>Yes</td>\n",
       "      <td>3</td>\n",
       "      <td>0.4</td>\n",
       "      <td>4</td>\n",
       "      <td>4</td>\n",
       "      <td>0</td>\n",
       "      <td>-0.04</td>\n",
       "    </tr>\n",
       "    <tr>\n",
       "      <th>3</th>\n",
       "      <td>HD-4</td>\n",
       "      <td>47</td>\n",
       "      <td>M</td>\n",
       "      <td>high-grade</td>\n",
       "      <td>5</td>\n",
       "      <td>Acom</td>\n",
       "      <td>No</td>\n",
       "      <td>4</td>\n",
       "      <td>0.8</td>\n",
       "      <td>3</td>\n",
       "      <td>3</td>\n",
       "      <td>0</td>\n",
       "      <td>0.26</td>\n",
       "    </tr>\n",
       "    <tr>\n",
       "      <th>4</th>\n",
       "      <td>HD-5</td>\n",
       "      <td>68</td>\n",
       "      <td>F</td>\n",
       "      <td>Low-grade</td>\n",
       "      <td>2</td>\n",
       "      <td>MCA-R</td>\n",
       "      <td>No</td>\n",
       "      <td>6</td>\n",
       "      <td>0.0</td>\n",
       "      <td>9</td>\n",
       "      <td>9</td>\n",
       "      <td>0</td>\n",
       "      <td>0.15</td>\n",
       "    </tr>\n",
       "  </tbody>\n",
       "</table>\n",
       "</div>"
      ],
      "text/plain": [
       "  Patient  Age Sex  WFNS_Group  WFNS Aneursym_location  DCI  eGOS  SD_Day  \\\n",
       "0    HD-1   55   F  high-grade     4              Acom  Yes     0     4.6   \n",
       "1    HD-2   38   M  high-grade     4              Acom  Yes     3     1.1   \n",
       "2    HD-3   28   F  high-grade     5             ICA-R  Yes     3     0.4   \n",
       "3    HD-4   47   M  high-grade     5              Acom   No     4     0.8   \n",
       "4    HD-5   68   F   Low-grade     2             MCA-R   No     6     0.0   \n",
       "\n",
       "   Total_SD  Single_SD  Clusters_SD  Mean_LPRX  \n",
       "0        46         24           22       0.18  \n",
       "1         6          6            0       0.10  \n",
       "2         4          4            0      -0.04  \n",
       "3         3          3            0       0.26  \n",
       "4         9          9            0       0.15  "
      ]
     },
     "execution_count": 2,
     "metadata": {},
     "output_type": "execute_result"
    }
   ],
   "source": [
    "# Load the data \n",
    "data = pd.read_csv(\"LeosData.csv\", sep=\",\")\n",
    "data.head()"
   ]
  },
  {
   "cell_type": "code",
   "execution_count": 52,
   "metadata": {},
   "outputs": [
    {
     "data": {
      "text/html": [
       "<div>\n",
       "<style scoped>\n",
       "    .dataframe tbody tr th:only-of-type {\n",
       "        vertical-align: middle;\n",
       "    }\n",
       "\n",
       "    .dataframe tbody tr th {\n",
       "        vertical-align: top;\n",
       "    }\n",
       "\n",
       "    .dataframe thead th {\n",
       "        text-align: right;\n",
       "    }\n",
       "</style>\n",
       "<table border=\"1\" class=\"dataframe\">\n",
       "  <thead>\n",
       "    <tr style=\"text-align: right;\">\n",
       "      <th></th>\n",
       "      <th>Patient</th>\n",
       "      <th>Age</th>\n",
       "      <th>Sex</th>\n",
       "      <th>WFNS_Group</th>\n",
       "      <th>WFNS</th>\n",
       "      <th>Aneursym_location</th>\n",
       "      <th>DCI</th>\n",
       "      <th>eGOS</th>\n",
       "      <th>SD_Day</th>\n",
       "      <th>Total_SD</th>\n",
       "      <th>Single_SD</th>\n",
       "      <th>Clusters_SD</th>\n",
       "      <th>Mean_LPRX</th>\n",
       "      <th>Sex_Num</th>\n",
       "      <th>WFNS_Group_Num</th>\n",
       "    </tr>\n",
       "  </thead>\n",
       "  <tbody>\n",
       "    <tr>\n",
       "      <th>0</th>\n",
       "      <td>HD-1</td>\n",
       "      <td>55</td>\n",
       "      <td>F</td>\n",
       "      <td>high-grade</td>\n",
       "      <td>4</td>\n",
       "      <td>Acom</td>\n",
       "      <td>Yes</td>\n",
       "      <td>0</td>\n",
       "      <td>4.6</td>\n",
       "      <td>46</td>\n",
       "      <td>24</td>\n",
       "      <td>22</td>\n",
       "      <td>0.18</td>\n",
       "      <td>0</td>\n",
       "      <td>1</td>\n",
       "    </tr>\n",
       "    <tr>\n",
       "      <th>1</th>\n",
       "      <td>HD-2</td>\n",
       "      <td>38</td>\n",
       "      <td>M</td>\n",
       "      <td>high-grade</td>\n",
       "      <td>4</td>\n",
       "      <td>Acom</td>\n",
       "      <td>Yes</td>\n",
       "      <td>3</td>\n",
       "      <td>1.1</td>\n",
       "      <td>6</td>\n",
       "      <td>6</td>\n",
       "      <td>0</td>\n",
       "      <td>0.10</td>\n",
       "      <td>1</td>\n",
       "      <td>1</td>\n",
       "    </tr>\n",
       "    <tr>\n",
       "      <th>2</th>\n",
       "      <td>HD-3</td>\n",
       "      <td>28</td>\n",
       "      <td>F</td>\n",
       "      <td>high-grade</td>\n",
       "      <td>5</td>\n",
       "      <td>ICA-R</td>\n",
       "      <td>Yes</td>\n",
       "      <td>3</td>\n",
       "      <td>0.4</td>\n",
       "      <td>4</td>\n",
       "      <td>4</td>\n",
       "      <td>0</td>\n",
       "      <td>-0.04</td>\n",
       "      <td>0</td>\n",
       "      <td>1</td>\n",
       "    </tr>\n",
       "    <tr>\n",
       "      <th>3</th>\n",
       "      <td>HD-4</td>\n",
       "      <td>47</td>\n",
       "      <td>M</td>\n",
       "      <td>high-grade</td>\n",
       "      <td>5</td>\n",
       "      <td>Acom</td>\n",
       "      <td>No</td>\n",
       "      <td>4</td>\n",
       "      <td>0.8</td>\n",
       "      <td>3</td>\n",
       "      <td>3</td>\n",
       "      <td>0</td>\n",
       "      <td>0.26</td>\n",
       "      <td>1</td>\n",
       "      <td>1</td>\n",
       "    </tr>\n",
       "    <tr>\n",
       "      <th>4</th>\n",
       "      <td>HD-5</td>\n",
       "      <td>68</td>\n",
       "      <td>F</td>\n",
       "      <td>Low-grade</td>\n",
       "      <td>2</td>\n",
       "      <td>MCA-R</td>\n",
       "      <td>No</td>\n",
       "      <td>6</td>\n",
       "      <td>0.0</td>\n",
       "      <td>9</td>\n",
       "      <td>9</td>\n",
       "      <td>0</td>\n",
       "      <td>0.15</td>\n",
       "      <td>0</td>\n",
       "      <td>0</td>\n",
       "    </tr>\n",
       "    <tr>\n",
       "      <th>5</th>\n",
       "      <td>HD-6</td>\n",
       "      <td>52</td>\n",
       "      <td>F</td>\n",
       "      <td>high-grade</td>\n",
       "      <td>5</td>\n",
       "      <td>ICA-R</td>\n",
       "      <td>Yes</td>\n",
       "      <td>0</td>\n",
       "      <td>0.6</td>\n",
       "      <td>4</td>\n",
       "      <td>4</td>\n",
       "      <td>0</td>\n",
       "      <td>0.05</td>\n",
       "      <td>0</td>\n",
       "      <td>1</td>\n",
       "    </tr>\n",
       "    <tr>\n",
       "      <th>6</th>\n",
       "      <td>HD-7</td>\n",
       "      <td>78</td>\n",
       "      <td>M</td>\n",
       "      <td>high-grade</td>\n",
       "      <td>5</td>\n",
       "      <td>ICA-R (Pcom)</td>\n",
       "      <td>Yes</td>\n",
       "      <td>3</td>\n",
       "      <td>0.6</td>\n",
       "      <td>5</td>\n",
       "      <td>5</td>\n",
       "      <td>0</td>\n",
       "      <td>0.14</td>\n",
       "      <td>1</td>\n",
       "      <td>1</td>\n",
       "    </tr>\n",
       "    <tr>\n",
       "      <th>7</th>\n",
       "      <td>HD-8</td>\n",
       "      <td>46</td>\n",
       "      <td>M</td>\n",
       "      <td>high-grade</td>\n",
       "      <td>4</td>\n",
       "      <td>MCA-L</td>\n",
       "      <td>No</td>\n",
       "      <td>3</td>\n",
       "      <td>0.4</td>\n",
       "      <td>4</td>\n",
       "      <td>4</td>\n",
       "      <td>0</td>\n",
       "      <td>-0.20</td>\n",
       "      <td>1</td>\n",
       "      <td>1</td>\n",
       "    </tr>\n",
       "    <tr>\n",
       "      <th>8</th>\n",
       "      <td>HD-9</td>\n",
       "      <td>54</td>\n",
       "      <td>F</td>\n",
       "      <td>high-grade</td>\n",
       "      <td>4</td>\n",
       "      <td>MCA-L</td>\n",
       "      <td>No</td>\n",
       "      <td>2</td>\n",
       "      <td>0.7</td>\n",
       "      <td>5</td>\n",
       "      <td>5</td>\n",
       "      <td>0</td>\n",
       "      <td>0.34</td>\n",
       "      <td>0</td>\n",
       "      <td>1</td>\n",
       "    </tr>\n",
       "    <tr>\n",
       "      <th>9</th>\n",
       "      <td>HD-10</td>\n",
       "      <td>52</td>\n",
       "      <td>M</td>\n",
       "      <td>high-grade</td>\n",
       "      <td>5</td>\n",
       "      <td>Acom</td>\n",
       "      <td>Yes</td>\n",
       "      <td>0</td>\n",
       "      <td>1.0</td>\n",
       "      <td>4</td>\n",
       "      <td>4</td>\n",
       "      <td>0</td>\n",
       "      <td>0.00</td>\n",
       "      <td>1</td>\n",
       "      <td>1</td>\n",
       "    </tr>\n",
       "    <tr>\n",
       "      <th>10</th>\n",
       "      <td>HD-11</td>\n",
       "      <td>61</td>\n",
       "      <td>M</td>\n",
       "      <td>high-grade</td>\n",
       "      <td>4</td>\n",
       "      <td>Acom</td>\n",
       "      <td>No</td>\n",
       "      <td>3</td>\n",
       "      <td>2.9</td>\n",
       "      <td>35</td>\n",
       "      <td>26</td>\n",
       "      <td>9</td>\n",
       "      <td>0.16</td>\n",
       "      <td>1</td>\n",
       "      <td>1</td>\n",
       "    </tr>\n",
       "    <tr>\n",
       "      <th>11</th>\n",
       "      <td>HD-12</td>\n",
       "      <td>48</td>\n",
       "      <td>M</td>\n",
       "      <td>Low-grade</td>\n",
       "      <td>3</td>\n",
       "      <td>ICA-L (Pcom)</td>\n",
       "      <td>No</td>\n",
       "      <td>3</td>\n",
       "      <td>0.8</td>\n",
       "      <td>9</td>\n",
       "      <td>9</td>\n",
       "      <td>0</td>\n",
       "      <td>0.13</td>\n",
       "      <td>1</td>\n",
       "      <td>0</td>\n",
       "    </tr>\n",
       "    <tr>\n",
       "      <th>12</th>\n",
       "      <td>HD-13</td>\n",
       "      <td>43</td>\n",
       "      <td>F</td>\n",
       "      <td>Low-grade</td>\n",
       "      <td>3</td>\n",
       "      <td>MCA-L</td>\n",
       "      <td>No</td>\n",
       "      <td>4</td>\n",
       "      <td>1.9</td>\n",
       "      <td>16</td>\n",
       "      <td>16</td>\n",
       "      <td>0</td>\n",
       "      <td>-0.08</td>\n",
       "      <td>0</td>\n",
       "      <td>0</td>\n",
       "    </tr>\n",
       "    <tr>\n",
       "      <th>13</th>\n",
       "      <td>HD-14</td>\n",
       "      <td>46</td>\n",
       "      <td>F</td>\n",
       "      <td>Low-grade</td>\n",
       "      <td>3</td>\n",
       "      <td>MCA-L</td>\n",
       "      <td>No</td>\n",
       "      <td>4</td>\n",
       "      <td>0.7</td>\n",
       "      <td>2</td>\n",
       "      <td>2</td>\n",
       "      <td>0</td>\n",
       "      <td>0.22</td>\n",
       "      <td>0</td>\n",
       "      <td>0</td>\n",
       "    </tr>\n",
       "    <tr>\n",
       "      <th>14</th>\n",
       "      <td>BE-1</td>\n",
       "      <td>42</td>\n",
       "      <td>F</td>\n",
       "      <td>high-grade</td>\n",
       "      <td>4</td>\n",
       "      <td>Acom</td>\n",
       "      <td>Probably</td>\n",
       "      <td>5</td>\n",
       "      <td>2.6</td>\n",
       "      <td>22</td>\n",
       "      <td>22</td>\n",
       "      <td>0</td>\n",
       "      <td>0.11</td>\n",
       "      <td>0</td>\n",
       "      <td>1</td>\n",
       "    </tr>\n",
       "    <tr>\n",
       "      <th>15</th>\n",
       "      <td>BE-2</td>\n",
       "      <td>53</td>\n",
       "      <td>F</td>\n",
       "      <td>high-grade</td>\n",
       "      <td>5</td>\n",
       "      <td>Acom</td>\n",
       "      <td>Probably</td>\n",
       "      <td>2</td>\n",
       "      <td>1.9</td>\n",
       "      <td>26</td>\n",
       "      <td>1</td>\n",
       "      <td>25</td>\n",
       "      <td>0.15</td>\n",
       "      <td>0</td>\n",
       "      <td>1</td>\n",
       "    </tr>\n",
       "    <tr>\n",
       "      <th>16</th>\n",
       "      <td>BE-3</td>\n",
       "      <td>53</td>\n",
       "      <td>M</td>\n",
       "      <td>high-grade</td>\n",
       "      <td>5</td>\n",
       "      <td>Acom</td>\n",
       "      <td>No</td>\n",
       "      <td>5</td>\n",
       "      <td>1.3</td>\n",
       "      <td>11</td>\n",
       "      <td>11</td>\n",
       "      <td>0</td>\n",
       "      <td>0.24</td>\n",
       "      <td>1</td>\n",
       "      <td>1</td>\n",
       "    </tr>\n",
       "    <tr>\n",
       "      <th>17</th>\n",
       "      <td>BE-4</td>\n",
       "      <td>47</td>\n",
       "      <td>M</td>\n",
       "      <td>Low-grade</td>\n",
       "      <td>3</td>\n",
       "      <td>MCA-L</td>\n",
       "      <td>No</td>\n",
       "      <td>4</td>\n",
       "      <td>2.0</td>\n",
       "      <td>29</td>\n",
       "      <td>23</td>\n",
       "      <td>6</td>\n",
       "      <td>0.09</td>\n",
       "      <td>1</td>\n",
       "      <td>0</td>\n",
       "    </tr>\n",
       "    <tr>\n",
       "      <th>18</th>\n",
       "      <td>BE-5</td>\n",
       "      <td>47</td>\n",
       "      <td>F</td>\n",
       "      <td>high-grade</td>\n",
       "      <td>4</td>\n",
       "      <td>MCA-L</td>\n",
       "      <td>No</td>\n",
       "      <td>3</td>\n",
       "      <td>8.7</td>\n",
       "      <td>37</td>\n",
       "      <td>6</td>\n",
       "      <td>31</td>\n",
       "      <td>0.06</td>\n",
       "      <td>0</td>\n",
       "      <td>1</td>\n",
       "    </tr>\n",
       "  </tbody>\n",
       "</table>\n",
       "</div>"
      ],
      "text/plain": [
       "   Patient  Age Sex  WFNS_Group  WFNS Aneursym_location       DCI  eGOS  \\\n",
       "0     HD-1   55   F  high-grade     4              Acom       Yes     0   \n",
       "1     HD-2   38   M  high-grade     4              Acom       Yes     3   \n",
       "2     HD-3   28   F  high-grade     5             ICA-R       Yes     3   \n",
       "3     HD-4   47   M  high-grade     5              Acom        No     4   \n",
       "4     HD-5   68   F   Low-grade     2             MCA-R        No     6   \n",
       "5     HD-6   52   F  high-grade     5             ICA-R       Yes     0   \n",
       "6     HD-7   78   M  high-grade     5      ICA-R (Pcom)       Yes     3   \n",
       "7     HD-8   46   M  high-grade     4             MCA-L        No     3   \n",
       "8     HD-9   54   F  high-grade     4             MCA-L        No     2   \n",
       "9    HD-10   52   M  high-grade     5              Acom       Yes     0   \n",
       "10   HD-11   61   M  high-grade     4              Acom        No     3   \n",
       "11   HD-12   48   M   Low-grade     3      ICA-L (Pcom)        No     3   \n",
       "12   HD-13   43   F   Low-grade     3             MCA-L        No     4   \n",
       "13   HD-14   46   F   Low-grade     3             MCA-L        No     4   \n",
       "14    BE-1   42   F  high-grade     4              Acom  Probably     5   \n",
       "15    BE-2   53   F  high-grade     5              Acom  Probably     2   \n",
       "16    BE-3   53   M  high-grade     5              Acom        No     5   \n",
       "17    BE-4   47   M   Low-grade     3             MCA-L        No     4   \n",
       "18    BE-5   47   F  high-grade     4             MCA-L        No     3   \n",
       "\n",
       "    SD_Day  Total_SD  Single_SD  Clusters_SD  Mean_LPRX  Sex_Num  \\\n",
       "0      4.6        46         24           22       0.18        0   \n",
       "1      1.1         6          6            0       0.10        1   \n",
       "2      0.4         4          4            0      -0.04        0   \n",
       "3      0.8         3          3            0       0.26        1   \n",
       "4      0.0         9          9            0       0.15        0   \n",
       "5      0.6         4          4            0       0.05        0   \n",
       "6      0.6         5          5            0       0.14        1   \n",
       "7      0.4         4          4            0      -0.20        1   \n",
       "8      0.7         5          5            0       0.34        0   \n",
       "9      1.0         4          4            0       0.00        1   \n",
       "10     2.9        35         26            9       0.16        1   \n",
       "11     0.8         9          9            0       0.13        1   \n",
       "12     1.9        16         16            0      -0.08        0   \n",
       "13     0.7         2          2            0       0.22        0   \n",
       "14     2.6        22         22            0       0.11        0   \n",
       "15     1.9        26          1           25       0.15        0   \n",
       "16     1.3        11         11            0       0.24        1   \n",
       "17     2.0        29         23            6       0.09        1   \n",
       "18     8.7        37          6           31       0.06        0   \n",
       "\n",
       "    WFNS_Group_Num  \n",
       "0                1  \n",
       "1                1  \n",
       "2                1  \n",
       "3                1  \n",
       "4                0  \n",
       "5                1  \n",
       "6                1  \n",
       "7                1  \n",
       "8                1  \n",
       "9                1  \n",
       "10               1  \n",
       "11               0  \n",
       "12               0  \n",
       "13               0  \n",
       "14               1  \n",
       "15               1  \n",
       "16               1  \n",
       "17               0  \n",
       "18               1  "
      ]
     },
     "execution_count": 52,
     "metadata": {},
     "output_type": "execute_result"
    }
   ],
   "source": [
    "data"
   ]
  },
  {
   "attachments": {},
   "cell_type": "markdown",
   "metadata": {},
   "source": [
    "## Data Transformation for the corresponding columns"
   ]
  },
  {
   "attachments": {},
   "cell_type": "markdown",
   "metadata": {},
   "source": [
    "Age: scalar\n",
    "\n",
    "Sex: nominal\n",
    "\n",
    "WFNS_group: ordinal (high o low)\n",
    "\n",
    "WFNS: ordinal (1-5) \n",
    "\n",
    "Aneursym location: nominal\n",
    "\n",
    "DCI: nominal\n",
    "\n",
    "eGOS: ordinal (0-8)\n",
    "\n",
    "SD: scalar\n",
    "\n",
    "Total_SD: scalar\n",
    "\n",
    "Sinlge_SD: scalar\n",
    "\n",
    "Clusters_SD: scalar\n",
    "\n",
    "L-PRx: scalar"
   ]
  },
  {
   "attachments": {},
   "cell_type": "markdown",
   "metadata": {},
   "source": [
    "## Descriptive Analysis"
   ]
  },
  {
   "cell_type": "code",
   "execution_count": 107,
   "metadata": {},
   "outputs": [
    {
     "data": {
      "text/plain": [
       "<Axes: xlabel='Mean_LPRX', ylabel='Count'>"
      ]
     },
     "execution_count": 107,
     "metadata": {},
     "output_type": "execute_result"
    },
    {
     "data": {
      "image/png": "[encoded data removed]",
      "text/plain": [
       "<Figure size 640x480 with 1 Axes>"
      ]
     },
     "metadata": {},
     "output_type": "display_data"
    }
   ],
   "source": [
    "#histogram of the dependent variable\n",
    "sbn.set(style=\"darkgrid\")\n",
    "sbn.histplot(data['Mean_LPRX'])"
   ]
  },
  {
   "cell_type": "code",
   "execution_count": 110,
   "metadata": {},
   "outputs": [
    {
     "data": {
      "text/plain": [
       "<Axes: xlabel='Age', ylabel='Count'>"
      ]
     },
     "execution_count": 110,
     "metadata": {},
     "output_type": "execute_result"
    },
    {
     "data": {
      "image/png": "[encoded data removed]",
      "text/plain": [
       "<Figure size 640x480 with 1 Axes>"
      ]
     },
     "metadata": {},
     "output_type": "display_data"
    }
   ],
   "source": [
    "#histogram of the dependent variable\n",
    "sbn.histplot(data['Age'])"
   ]
  },
  {
   "cell_type": "code",
   "execution_count": 109,
   "metadata": {},
   "outputs": [
    {
     "data": {
      "text/plain": [
       "<Axes: xlabel='Single_SD', ylabel='Count'>"
      ]
     },
     "execution_count": 109,
     "metadata": {},
     "output_type": "execute_result"
    },
    {
     "data": {
      "image/png": "[encoded data removed]",
      "text/plain": [
       "<Figure size 640x480 with 1 Axes>"
      ]
     },
     "metadata": {},
     "output_type": "display_data"
    }
   ],
   "source": [
    "#histogram of the dependent variable\n",
    "sbn.histplot(data['Single_SD'])"
   ]
  },
  {
   "cell_type": "code",
   "execution_count": 108,
   "metadata": {},
   "outputs": [
    {
     "data": {
      "text/plain": [
       "<Axes: xlabel='SD_Day', ylabel='Count'>"
      ]
     },
     "execution_count": 108,
     "metadata": {},
     "output_type": "execute_result"
    },
    {
     "data": {
      "image/png": "[encoded data removed]",
      "text/plain": [
       "<Figure size 640x480 with 1 Axes>"
      ]
     },
     "metadata": {},
     "output_type": "display_data"
    }
   ],
   "source": [
    "#histogram of the dependent variable\n",
    "sbn.histplot(data['SD_Day'])\n"
   ]
  },
  {
   "cell_type": "code",
   "execution_count": 111,
   "metadata": {},
   "outputs": [
    {
     "data": {
      "text/plain": [
       "<Axes: xlabel='Clusters_SD', ylabel='Count'>"
      ]
     },
     "execution_count": 111,
     "metadata": {},
     "output_type": "execute_result"
    },
    {
     "data": {
      "image/png": "[encoded data removed]",
      "text/plain": [
       "<Figure size 640x480 with 1 Axes>"
      ]
     },
     "metadata": {},
     "output_type": "display_data"
    }
   ],
   "source": [
    "#histogram of the dependent variable\n",
    "sbn.histplot(data['Clusters_SD'])\n"
   ]
  },
  {
   "cell_type": "code",
   "execution_count": 112,
   "metadata": {},
   "outputs": [
    {
     "data": {
      "text/plain": [
       "<Axes: xlabel='Total_SD', ylabel='Count'>"
      ]
     },
     "execution_count": 112,
     "metadata": {},
     "output_type": "execute_result"
    },
    {
     "data": {
      "image/png": "[encoded data removed]",
      "text/plain": [
       "<Figure size 640x480 with 1 Axes>"
      ]
     },
     "metadata": {},
     "output_type": "display_data"
    }
   ],
   "source": [
    "#histogram of the dependent variable\n",
    "sbn.histplot(data['Total_SD'])"
   ]
  },
  {
   "cell_type": "code",
   "execution_count": 32,
   "metadata": {},
   "outputs": [
    {
     "name": "stdout",
     "output_type": "stream",
     "text": [
      "Pearson Corr Age vs Mean LPRX: 0.36 p-value: 0.13\n"
     ]
    },
    {
     "data": {
      "image/png": "[encoded data removed]",
      "text/plain": [
       "<Figure size 640x480 with 1 Axes>"
      ]
     },
     "metadata": {},
     "output_type": "display_data"
    }
   ],
   "source": [
    "# Valid\n",
    "# Relationship with numerical variables (Age vs Mean LPRX)\n",
    "# Scatter plot\n",
    "result = data.loc[:,[\"Age\",\"Mean_LPRX\"]]\n",
    "result.plot.scatter(x=\"Age\", y='Mean_LPRX')\n",
    "# Correlation\n",
    "res = stats.pearsonr(data['Age'], data['Mean_LPRX'])\n",
    "print(f\"Pearson Correlation between Age vs Mean LPRX: {res[0]:.2f} p-value: {res[1]:.2f}\" )"
   ]
  },
  {
   "cell_type": "code",
   "execution_count": 113,
   "metadata": {},
   "outputs": [
    {
     "name": "stdout",
     "output_type": "stream",
     "text": [
      "Pearson Correlation between Age vs SD_Day: -0.06 p-value: 0.81\n"
     ]
    },
    {
     "data": {
      "image/png": "[encoded data removed]",
      "text/plain": [
       "<Figure size 640x480 with 1 Axes>"
      ]
     },
     "metadata": {},
     "output_type": "display_data"
    }
   ],
   "source": [
    "# Valid\n",
    "# Relationship with numerical variables (Age vs SD_Day)\n",
    "#Total_SD\tSingle_SD\tClusters_SD\n",
    "# Scatter plot\n",
    "result = data.loc[:,[\"Age\",\"SD_Day\"]]\n",
    "result.plot.scatter(x=\"Age\", y='SD_Day')\n",
    "# Correlation\n",
    "res = stats.pearsonr(data['Age'], data['SD_Day'])\n",
    "print(f\"Pearson Correlation between Age vs SD_Day: {res[0]:.2f} p-value: {res[1]:.2f}\" )"
   ]
  },
  {
   "cell_type": "code",
   "execution_count": 35,
   "metadata": {},
   "outputs": [
    {
     "name": "stdout",
     "output_type": "stream",
     "text": [
      "Pearson Correlation between Age vs Single_SD: 0.07 p-value: 0.77\n"
     ]
    },
    {
     "data": {
      "image/png": "[encoded data removed]",
      "text/plain": [
       "<Figure size 640x480 with 1 Axes>"
      ]
     },
     "metadata": {},
     "output_type": "display_data"
    }
   ],
   "source": [
    "# Valid\n",
    "# Relationship with numerical variables (Age vs Single_SD)\n",
    "#Total_SD\t\tClusters_SD\n",
    "# Scatter plot\n",
    "result = data.loc[:,[\"Age\",\"Single_SD\"]]\n",
    "result.plot.scatter(x=\"Age\", y='Single_SD')\n",
    "# Correlation\n",
    "res = stats.pearsonr(data['Age'], data['Single_SD'])\n",
    "print(f\"Pearson Correlation between Age vs Single_SD: {res[0]:.2f} p-value: {res[1]:.2f}\" )"
   ]
  },
  {
   "cell_type": "code",
   "execution_count": 36,
   "metadata": {},
   "outputs": [
    {
     "name": "stdout",
     "output_type": "stream",
     "text": [
      "Pearson Correlation between Age vs Clusters_SD: 0.07 p-value: 0.78\n"
     ]
    },
    {
     "data": {
      "image/png": "[encoded data removed]",
      "text/plain": [
       "<Figure size 640x480 with 1 Axes>"
      ]
     },
     "metadata": {},
     "output_type": "display_data"
    }
   ],
   "source": [
    "# Valid\n",
    "# Relationship with numerical variables (Age vs Clusters_SD)\n",
    "#Total_SD\t\t\n",
    "# Scatter plot\n",
    "result = data.loc[:,[\"Age\",\"Clusters_SD\"]]\n",
    "result.plot.scatter(x=\"Age\", y='Clusters_SD')\n",
    "# Correlation\n",
    "res = stats.pearsonr(data['Age'], data['Clusters_SD'])\n",
    "print(f\"Pearson Correlation between Age vs Clusters_SD: {res[0]:.2f} p-value: {res[1]:.2f}\" )"
   ]
  },
  {
   "cell_type": "code",
   "execution_count": 37,
   "metadata": {},
   "outputs": [
    {
     "name": "stdout",
     "output_type": "stream",
     "text": [
      "Pearson Correlation between Age vs Total_SD: 0.09 p-value: 0.70\n"
     ]
    },
    {
     "data": {
      "image/png": "[encoded data removed]",
      "text/plain": [
       "<Figure size 640x480 with 1 Axes>"
      ]
     },
     "metadata": {},
     "output_type": "display_data"
    }
   ],
   "source": [
    "# Valid\n",
    "# Relationship with numerical variables (Age vs Total_SD)\n",
    "# Scatter plot\n",
    "result = data.loc[:,[\"Age\",\"Total_SD\"]]\n",
    "result.plot.scatter(x=\"Age\", y='Total_SD')\n",
    "# Correlation\n",
    "res = stats.pearsonr(data['Age'], data['Total_SD'])\n",
    "print(f\"Pearson Correlation between Age vs Total_SD: {res[0]:.2f} p-value: {res[1]:.2f}\" )"
   ]
  },
  {
   "attachments": {},
   "cell_type": "markdown",
   "metadata": {},
   "source": [
    "## Pearson Correlation"
   ]
  },
  {
   "attachments": {},
   "cell_type": "markdown",
   "metadata": {},
   "source": [
    "Linear relationship (continuous variables)\n",
    "\n",
    "- Positive correlation: As variable 1 increases, variable 2 also increases.\n",
    "- No correlation.\n",
    "- Negative correlation: As variable 1 increases, variable 2 decreases.\n",
    "\n",
    "Normally distributed\n",
    "\n",
    "Null Hypothesis: No correlation between the variables\n",
    "\n",
    "p < 0.05 => statistically significant"
   ]
  },
  {
   "cell_type": "code",
   "execution_count": 114,
   "metadata": {},
   "outputs": [
    {
     "data": {
      "text/plain": [
       "<Axes: >"
      ]
     },
     "execution_count": 114,
     "metadata": {},
     "output_type": "execute_result"
    },
    {
     "data": {
      "image/png": "[encoded data removed]",
      "text/plain": [
       "<Figure size 640x480 with 2 Axes>"
      ]
     },
     "metadata": {},
     "output_type": "display_data"
    }
   ],
   "source": [
    "#correlation matrix\n",
    "sub_data_corr = data.loc[:,\n",
    "                             ['Age', 'SD_Day', 'Single_SD', 'Clusters_SD', 'Total_SD', 'Mean_LPRX']]\n",
    "\n",
    "corrmat = sub_data_corr.corr()\n",
    "sbn.heatmap(corrmat, cbar=True, annot=True, vmin=-1,vmax=1, square=True, fmt='.2f', annot_kws={'size': 8})"
   ]
  },
  {
   "attachments": {},
   "cell_type": "markdown",
   "metadata": {},
   "source": [
    "## Spearman Corrrelation"
   ]
  },
  {
   "attachments": {},
   "cell_type": "markdown",
   "metadata": {},
   "source": [
    "Monotomic variables (continuous or ordinal)\n",
    "- Positive association: As variable 1 increases, variable 2 does not increase.\n",
    "- Negative association: As variable 1 increases, variable 2 does not increase.\n",
    "\n",
    "Non-parametric: does not assume data#s distribution.\n",
    "\n",
    "Variables are ranked.\n"
   ]
  },
  {
   "cell_type": "code",
   "execution_count": 117,
   "metadata": {},
   "outputs": [
    {
     "data": {
      "text/html": [
       "<div>\n",
       "<style scoped>\n",
       "    .dataframe tbody tr th:only-of-type {\n",
       "        vertical-align: middle;\n",
       "    }\n",
       "\n",
       "    .dataframe tbody tr th {\n",
       "        vertical-align: top;\n",
       "    }\n",
       "\n",
       "    .dataframe thead th {\n",
       "        text-align: right;\n",
       "    }\n",
       "</style>\n",
       "<table border=\"1\" class=\"dataframe\">\n",
       "  <thead>\n",
       "    <tr style=\"text-align: right;\">\n",
       "      <th></th>\n",
       "      <th>Age</th>\n",
       "      <th>Sex_Num</th>\n",
       "      <th>WFNS_Group_Num</th>\n",
       "      <th>WFNS</th>\n",
       "      <th>AL_Acom</th>\n",
       "      <th>AL_ICA-L (Pcom)</th>\n",
       "      <th>AL_ICA-R</th>\n",
       "      <th>AL_ICA-R (Pcom)</th>\n",
       "      <th>AL_MCA-L</th>\n",
       "      <th>AL_MCA-R</th>\n",
       "      <th>DCI_No</th>\n",
       "      <th>DCI_Probably</th>\n",
       "      <th>DCI_Yes</th>\n",
       "      <th>eGOS</th>\n",
       "      <th>Single_SD</th>\n",
       "      <th>Clusters_SD</th>\n",
       "      <th>Mean_LPRX</th>\n",
       "    </tr>\n",
       "  </thead>\n",
       "  <tbody>\n",
       "    <tr>\n",
       "      <th>0</th>\n",
       "      <td>55</td>\n",
       "      <td>0</td>\n",
       "      <td>1</td>\n",
       "      <td>4</td>\n",
       "      <td>1</td>\n",
       "      <td>0</td>\n",
       "      <td>0</td>\n",
       "      <td>0</td>\n",
       "      <td>0</td>\n",
       "      <td>0</td>\n",
       "      <td>0</td>\n",
       "      <td>0</td>\n",
       "      <td>1</td>\n",
       "      <td>0</td>\n",
       "      <td>24</td>\n",
       "      <td>22</td>\n",
       "      <td>0.18</td>\n",
       "    </tr>\n",
       "    <tr>\n",
       "      <th>1</th>\n",
       "      <td>38</td>\n",
       "      <td>1</td>\n",
       "      <td>1</td>\n",
       "      <td>4</td>\n",
       "      <td>1</td>\n",
       "      <td>0</td>\n",
       "      <td>0</td>\n",
       "      <td>0</td>\n",
       "      <td>0</td>\n",
       "      <td>0</td>\n",
       "      <td>0</td>\n",
       "      <td>0</td>\n",
       "      <td>1</td>\n",
       "      <td>3</td>\n",
       "      <td>6</td>\n",
       "      <td>0</td>\n",
       "      <td>0.10</td>\n",
       "    </tr>\n",
       "    <tr>\n",
       "      <th>2</th>\n",
       "      <td>28</td>\n",
       "      <td>0</td>\n",
       "      <td>1</td>\n",
       "      <td>5</td>\n",
       "      <td>0</td>\n",
       "      <td>0</td>\n",
       "      <td>1</td>\n",
       "      <td>0</td>\n",
       "      <td>0</td>\n",
       "      <td>0</td>\n",
       "      <td>0</td>\n",
       "      <td>0</td>\n",
       "      <td>1</td>\n",
       "      <td>3</td>\n",
       "      <td>4</td>\n",
       "      <td>0</td>\n",
       "      <td>-0.04</td>\n",
       "    </tr>\n",
       "    <tr>\n",
       "      <th>3</th>\n",
       "      <td>47</td>\n",
       "      <td>1</td>\n",
       "      <td>1</td>\n",
       "      <td>5</td>\n",
       "      <td>1</td>\n",
       "      <td>0</td>\n",
       "      <td>0</td>\n",
       "      <td>0</td>\n",
       "      <td>0</td>\n",
       "      <td>0</td>\n",
       "      <td>1</td>\n",
       "      <td>0</td>\n",
       "      <td>0</td>\n",
       "      <td>4</td>\n",
       "      <td>3</td>\n",
       "      <td>0</td>\n",
       "      <td>0.26</td>\n",
       "    </tr>\n",
       "    <tr>\n",
       "      <th>4</th>\n",
       "      <td>68</td>\n",
       "      <td>0</td>\n",
       "      <td>0</td>\n",
       "      <td>2</td>\n",
       "      <td>0</td>\n",
       "      <td>0</td>\n",
       "      <td>0</td>\n",
       "      <td>0</td>\n",
       "      <td>0</td>\n",
       "      <td>1</td>\n",
       "      <td>1</td>\n",
       "      <td>0</td>\n",
       "      <td>0</td>\n",
       "      <td>6</td>\n",
       "      <td>9</td>\n",
       "      <td>0</td>\n",
       "      <td>0.15</td>\n",
       "    </tr>\n",
       "    <tr>\n",
       "      <th>5</th>\n",
       "      <td>52</td>\n",
       "      <td>0</td>\n",
       "      <td>1</td>\n",
       "      <td>5</td>\n",
       "      <td>0</td>\n",
       "      <td>0</td>\n",
       "      <td>1</td>\n",
       "      <td>0</td>\n",
       "      <td>0</td>\n",
       "      <td>0</td>\n",
       "      <td>0</td>\n",
       "      <td>0</td>\n",
       "      <td>1</td>\n",
       "      <td>0</td>\n",
       "      <td>4</td>\n",
       "      <td>0</td>\n",
       "      <td>0.05</td>\n",
       "    </tr>\n",
       "    <tr>\n",
       "      <th>6</th>\n",
       "      <td>78</td>\n",
       "      <td>1</td>\n",
       "      <td>1</td>\n",
       "      <td>5</td>\n",
       "      <td>0</td>\n",
       "      <td>0</td>\n",
       "      <td>0</td>\n",
       "      <td>1</td>\n",
       "      <td>0</td>\n",
       "      <td>0</td>\n",
       "      <td>0</td>\n",
       "      <td>0</td>\n",
       "      <td>1</td>\n",
       "      <td>3</td>\n",
       "      <td>5</td>\n",
       "      <td>0</td>\n",
       "      <td>0.14</td>\n",
       "    </tr>\n",
       "    <tr>\n",
       "      <th>7</th>\n",
       "      <td>46</td>\n",
       "      <td>1</td>\n",
       "      <td>1</td>\n",
       "      <td>4</td>\n",
       "      <td>0</td>\n",
       "      <td>0</td>\n",
       "      <td>0</td>\n",
       "      <td>0</td>\n",
       "      <td>1</td>\n",
       "      <td>0</td>\n",
       "      <td>1</td>\n",
       "      <td>0</td>\n",
       "      <td>0</td>\n",
       "      <td>3</td>\n",
       "      <td>4</td>\n",
       "      <td>0</td>\n",
       "      <td>-0.20</td>\n",
       "    </tr>\n",
       "    <tr>\n",
       "      <th>8</th>\n",
       "      <td>54</td>\n",
       "      <td>0</td>\n",
       "      <td>1</td>\n",
       "      <td>4</td>\n",
       "      <td>0</td>\n",
       "      <td>0</td>\n",
       "      <td>0</td>\n",
       "      <td>0</td>\n",
       "      <td>1</td>\n",
       "      <td>0</td>\n",
       "      <td>1</td>\n",
       "      <td>0</td>\n",
       "      <td>0</td>\n",
       "      <td>2</td>\n",
       "      <td>5</td>\n",
       "      <td>0</td>\n",
       "      <td>0.34</td>\n",
       "    </tr>\n",
       "    <tr>\n",
       "      <th>9</th>\n",
       "      <td>52</td>\n",
       "      <td>1</td>\n",
       "      <td>1</td>\n",
       "      <td>5</td>\n",
       "      <td>1</td>\n",
       "      <td>0</td>\n",
       "      <td>0</td>\n",
       "      <td>0</td>\n",
       "      <td>0</td>\n",
       "      <td>0</td>\n",
       "      <td>0</td>\n",
       "      <td>0</td>\n",
       "      <td>1</td>\n",
       "      <td>0</td>\n",
       "      <td>4</td>\n",
       "      <td>0</td>\n",
       "      <td>0.00</td>\n",
       "    </tr>\n",
       "    <tr>\n",
       "      <th>10</th>\n",
       "      <td>61</td>\n",
       "      <td>1</td>\n",
       "      <td>1</td>\n",
       "      <td>4</td>\n",
       "      <td>1</td>\n",
       "      <td>0</td>\n",
       "      <td>0</td>\n",
       "      <td>0</td>\n",
       "      <td>0</td>\n",
       "      <td>0</td>\n",
       "      <td>1</td>\n",
       "      <td>0</td>\n",
       "      <td>0</td>\n",
       "      <td>3</td>\n",
       "      <td>26</td>\n",
       "      <td>9</td>\n",
       "      <td>0.16</td>\n",
       "    </tr>\n",
       "    <tr>\n",
       "      <th>11</th>\n",
       "      <td>48</td>\n",
       "      <td>1</td>\n",
       "      <td>0</td>\n",
       "      <td>3</td>\n",
       "      <td>0</td>\n",
       "      <td>1</td>\n",
       "      <td>0</td>\n",
       "      <td>0</td>\n",
       "      <td>0</td>\n",
       "      <td>0</td>\n",
       "      <td>1</td>\n",
       "      <td>0</td>\n",
       "      <td>0</td>\n",
       "      <td>3</td>\n",
       "      <td>9</td>\n",
       "      <td>0</td>\n",
       "      <td>0.13</td>\n",
       "    </tr>\n",
       "    <tr>\n",
       "      <th>12</th>\n",
       "      <td>43</td>\n",
       "      <td>0</td>\n",
       "      <td>0</td>\n",
       "      <td>3</td>\n",
       "      <td>0</td>\n",
       "      <td>0</td>\n",
       "      <td>0</td>\n",
       "      <td>0</td>\n",
       "      <td>1</td>\n",
       "      <td>0</td>\n",
       "      <td>1</td>\n",
       "      <td>0</td>\n",
       "      <td>0</td>\n",
       "      <td>4</td>\n",
       "      <td>16</td>\n",
       "      <td>0</td>\n",
       "      <td>-0.08</td>\n",
       "    </tr>\n",
       "    <tr>\n",
       "      <th>13</th>\n",
       "      <td>46</td>\n",
       "      <td>0</td>\n",
       "      <td>0</td>\n",
       "      <td>3</td>\n",
       "      <td>0</td>\n",
       "      <td>0</td>\n",
       "      <td>0</td>\n",
       "      <td>0</td>\n",
       "      <td>1</td>\n",
       "      <td>0</td>\n",
       "      <td>1</td>\n",
       "      <td>0</td>\n",
       "      <td>0</td>\n",
       "      <td>4</td>\n",
       "      <td>2</td>\n",
       "      <td>0</td>\n",
       "      <td>0.22</td>\n",
       "    </tr>\n",
       "    <tr>\n",
       "      <th>14</th>\n",
       "      <td>42</td>\n",
       "      <td>0</td>\n",
       "      <td>1</td>\n",
       "      <td>4</td>\n",
       "      <td>1</td>\n",
       "      <td>0</td>\n",
       "      <td>0</td>\n",
       "      <td>0</td>\n",
       "      <td>0</td>\n",
       "      <td>0</td>\n",
       "      <td>0</td>\n",
       "      <td>1</td>\n",
       "      <td>0</td>\n",
       "      <td>5</td>\n",
       "      <td>22</td>\n",
       "      <td>0</td>\n",
       "      <td>0.11</td>\n",
       "    </tr>\n",
       "    <tr>\n",
       "      <th>15</th>\n",
       "      <td>53</td>\n",
       "      <td>0</td>\n",
       "      <td>1</td>\n",
       "      <td>5</td>\n",
       "      <td>1</td>\n",
       "      <td>0</td>\n",
       "      <td>0</td>\n",
       "      <td>0</td>\n",
       "      <td>0</td>\n",
       "      <td>0</td>\n",
       "      <td>0</td>\n",
       "      <td>1</td>\n",
       "      <td>0</td>\n",
       "      <td>2</td>\n",
       "      <td>1</td>\n",
       "      <td>25</td>\n",
       "      <td>0.15</td>\n",
       "    </tr>\n",
       "    <tr>\n",
       "      <th>16</th>\n",
       "      <td>53</td>\n",
       "      <td>1</td>\n",
       "      <td>1</td>\n",
       "      <td>5</td>\n",
       "      <td>1</td>\n",
       "      <td>0</td>\n",
       "      <td>0</td>\n",
       "      <td>0</td>\n",
       "      <td>0</td>\n",
       "      <td>0</td>\n",
       "      <td>1</td>\n",
       "      <td>0</td>\n",
       "      <td>0</td>\n",
       "      <td>5</td>\n",
       "      <td>11</td>\n",
       "      <td>0</td>\n",
       "      <td>0.24</td>\n",
       "    </tr>\n",
       "    <tr>\n",
       "      <th>17</th>\n",
       "      <td>47</td>\n",
       "      <td>1</td>\n",
       "      <td>0</td>\n",
       "      <td>3</td>\n",
       "      <td>0</td>\n",
       "      <td>0</td>\n",
       "      <td>0</td>\n",
       "      <td>0</td>\n",
       "      <td>1</td>\n",
       "      <td>0</td>\n",
       "      <td>1</td>\n",
       "      <td>0</td>\n",
       "      <td>0</td>\n",
       "      <td>4</td>\n",
       "      <td>23</td>\n",
       "      <td>6</td>\n",
       "      <td>0.09</td>\n",
       "    </tr>\n",
       "    <tr>\n",
       "      <th>18</th>\n",
       "      <td>47</td>\n",
       "      <td>0</td>\n",
       "      <td>1</td>\n",
       "      <td>4</td>\n",
       "      <td>0</td>\n",
       "      <td>0</td>\n",
       "      <td>0</td>\n",
       "      <td>0</td>\n",
       "      <td>1</td>\n",
       "      <td>0</td>\n",
       "      <td>1</td>\n",
       "      <td>0</td>\n",
       "      <td>0</td>\n",
       "      <td>3</td>\n",
       "      <td>6</td>\n",
       "      <td>31</td>\n",
       "      <td>0.06</td>\n",
       "    </tr>\n",
       "  </tbody>\n",
       "</table>\n",
       "</div>"
      ],
      "text/plain": [
       "    Age  Sex_Num  WFNS_Group_Num  WFNS  AL_Acom  AL_ICA-L (Pcom)  AL_ICA-R  \\\n",
       "0    55        0               1     4        1                0         0   \n",
       "1    38        1               1     4        1                0         0   \n",
       "2    28        0               1     5        0                0         1   \n",
       "3    47        1               1     5        1                0         0   \n",
       "4    68        0               0     2        0                0         0   \n",
       "5    52        0               1     5        0                0         1   \n",
       "6    78        1               1     5        0                0         0   \n",
       "7    46        1               1     4        0                0         0   \n",
       "8    54        0               1     4        0                0         0   \n",
       "9    52        1               1     5        1                0         0   \n",
       "10   61        1               1     4        1                0         0   \n",
       "11   48        1               0     3        0                1         0   \n",
       "12   43        0               0     3        0                0         0   \n",
       "13   46        0               0     3        0                0         0   \n",
       "14   42        0               1     4        1                0         0   \n",
       "15   53        0               1     5        1                0         0   \n",
       "16   53        1               1     5        1                0         0   \n",
       "17   47        1               0     3        0                0         0   \n",
       "18   47        0               1     4        0                0         0   \n",
       "\n",
       "    AL_ICA-R (Pcom)  AL_MCA-L  AL_MCA-R  DCI_No  DCI_Probably  DCI_Yes  eGOS  \\\n",
       "0                 0         0         0       0             0        1     0   \n",
       "1                 0         0         0       0             0        1     3   \n",
       "2                 0         0         0       0             0        1     3   \n",
       "3                 0         0         0       1             0        0     4   \n",
       "4                 0         0         1       1             0        0     6   \n",
       "5                 0         0         0       0             0        1     0   \n",
       "6                 1         0         0       0             0        1     3   \n",
       "7                 0         1         0       1             0        0     3   \n",
       "8                 0         1         0       1             0        0     2   \n",
       "9                 0         0         0       0             0        1     0   \n",
       "10                0         0         0       1             0        0     3   \n",
       "11                0         0         0       1             0        0     3   \n",
       "12                0         1         0       1             0        0     4   \n",
       "13                0         1         0       1             0        0     4   \n",
       "14                0         0         0       0             1        0     5   \n",
       "15                0         0         0       0             1        0     2   \n",
       "16                0         0         0       1             0        0     5   \n",
       "17                0         1         0       1             0        0     4   \n",
       "18                0         1         0       1             0        0     3   \n",
       "\n",
       "    Single_SD  Clusters_SD  Mean_LPRX  \n",
       "0          24           22       0.18  \n",
       "1           6            0       0.10  \n",
       "2           4            0      -0.04  \n",
       "3           3            0       0.26  \n",
       "4           9            0       0.15  \n",
       "5           4            0       0.05  \n",
       "6           5            0       0.14  \n",
       "7           4            0      -0.20  \n",
       "8           5            0       0.34  \n",
       "9           4            0       0.00  \n",
       "10         26            9       0.16  \n",
       "11          9            0       0.13  \n",
       "12         16            0      -0.08  \n",
       "13          2            0       0.22  \n",
       "14         22            0       0.11  \n",
       "15          1           25       0.15  \n",
       "16         11            0       0.24  \n",
       "17         23            6       0.09  \n",
       "18          6           31       0.06  "
      ]
     },
     "execution_count": 117,
     "metadata": {},
     "output_type": "execute_result"
    }
   ],
   "source": [
    "# Data Transformation\n",
    "\n",
    "# Sex (dichotonomous variable) (Ordinal => numeric)\n",
    "data[\"Sex_Num\"] = 0\n",
    "data.loc[data[\"Sex\"] ==  \"F\", 'Sex_Num'] = 0\n",
    "data.loc[data[\"Sex\"] ==  \"M\", 'Sex_Num'] = 1\n",
    "\n",
    "# WFNS_Group (dichotonomous variable) (Ordinal => numeric)\n",
    "data[\"WFNS_Group_Num\"] = 0\n",
    "data.loc[data[\"WFNS_Group\"] ==  \"high-grade\", 'WFNS_Group_Num'] = 1\n",
    "data.loc[data[\"WFNS_Group\"] ==  \"Low-grade\", 'WFNS_Group_Num'] = 0\n",
    "\n",
    "# Aneursym_location (nominal variable, but there is no order in values)\n",
    "# One hot encodig is needed (categorical/nominal => Numeric)\n",
    "anae_values_dummies = pd.get_dummies(data[\"Aneursym_location\"], prefix=\"AL\") \n",
    "sub_data = pd.concat([data, anae_values_dummies], axis='columns')\n",
    "\n",
    "\n",
    "# DCI (nominal variable, but there is no order in values)\n",
    "# get the dummies and store it in a variable\n",
    "dci_dummies = pd.get_dummies(data[\"DCI\"], prefix=\"DCI\") \n",
    "# Concatenate the dummies to original dataframe\n",
    "sub_data = pd.concat([sub_data, dci_dummies], axis='columns')\n",
    "\n",
    "\n",
    "#print(sub_data)\n",
    "sub_data = sub_data.loc[:,\n",
    "                       ['Age', 'Sex_Num', 'WFNS_Group_Num', 'WFNS',\n",
    "                        'AL_Acom', 'AL_ICA-L (Pcom)', 'AL_ICA-R', 'AL_ICA-R (Pcom)', 'AL_MCA-L','AL_MCA-R', \n",
    "                        'DCI_No', 'DCI_Probably', 'DCI_Yes',\n",
    "                        'eGOS', 'Single_SD', 'Clusters_SD', 'Mean_LPRX']\n",
    "                   ]\n",
    "sub_data\n",
    "\n",
    "\n",
    "# new_col = pd.Categorical(data[\"Aneursym_location\"]).codes\n",
    "# new_col = pd.Series(new_col)\n",
    "# # # Concatenate the dummies to original dataframe\n",
    "# data = pd.concat([data, new_col], axis='columns')\n",
    "# data.rename(columns={0:\"Aneursym_location_Num\"}, inplace=True)\n",
    "\n"
   ]
  },
  {
   "cell_type": "code",
   "execution_count": 125,
   "metadata": {},
   "outputs": [
    {
     "name": "stdout",
     "output_type": "stream",
     "text": [
      "WFNS vs Age:  SignificanceResult(statistic=0.11313251295689733, pvalue=0.6446979894466642)\n",
      "eGOS vs Age:  SignificanceResult(statistic=-0.23772295053110082, pvalue=0.3270820905466634)\n",
      "WFNS Group vs Age:  SignificanceResult(statistic=0.09850093141103416, pvalue=0.688283826518594)\n"
     ]
    },
    {
     "data": {
      "image/png": "[encoded data removed]",
      "text/plain": [
       "<Figure size 640x480 with 2 Axes>"
      ]
     },
     "metadata": {},
     "output_type": "display_data"
    }
   ],
   "source": [
    "# Valid\n",
    "from scipy.stats import spearmanr\n",
    "# Spearman correlation\n",
    "#col_data  = sub_data.loc[:,[\"WFNS\",\"eGOS\", \"WFNS_Group_Num\"]]\n",
    "col_data  = sub_data.loc[:,[\"WFNS\", \"eGOS\", \"WFNS_Group_Num\",\"Age\"]]\n",
    "res = col_data.corr(method=\"spearman\")\n",
    "#print(res.head())\n",
    "\n",
    "# print(spearmanr(col_data)[0])\n",
    "# print(spearmanr(col_data)[1])\n",
    "sbn.heatmap(res, vmin=-1,vmax=1, annot=True, fmt='.2f', annot_kws={'size': 8})\n",
    "\n",
    "col_data  = sub_data.loc[:,[\"WFNS\", \"Age\"]]\n",
    "res = col_data.corr(method=\"spearman\")\n",
    "print(\"WFNS vs Age: \",spearmanr(col_data))\n",
    "\n",
    "col_data  = sub_data.loc[:,[\"eGOS\", \"Age\"]]\n",
    "res = col_data.corr(method=\"spearman\")\n",
    "print(\"eGOS vs Age: \",spearmanr(col_data))\n",
    "\n",
    "col_data  = sub_data.loc[:,[\"WFNS_Group_Num\", \"Age\"]]\n",
    "res = col_data.corr(method=\"spearman\")\n",
    "print(\"WFNS Group vs Age: \",spearmanr(col_data))\n",
    "\n",
    "# print(spearmanr(col_data)[0])\n",
    "# print(spearmanr(col_data)[1])\n"
   ]
  },
  {
   "cell_type": "code",
   "execution_count": 49,
   "metadata": {},
   "outputs": [
    {
     "name": "stdout",
     "output_type": "stream",
     "text": [
      "Pearson Correlation between WFNS vs eGOS: -0.48 p-value: 0.04\n"
     ]
    },
    {
     "data": {
      "image/png": "[encoded data removed]",
      "text/plain": [
       "<Figure size 640x480 with 1 Axes>"
      ]
     },
     "metadata": {},
     "output_type": "display_data"
    }
   ],
   "source": [
    "# Relationship with numerical variables (Age vs Total_SD)\n",
    "# Scatter plot\n",
    "result = sub_data.loc[:,[\"WFNS\",\"eGOS\"]]\n",
    "result.plot.scatter(x=\"WFNS\", y='eGOS')\n",
    "# Correlation\n",
    "res = stats.pearsonr(data['WFNS'], data['eGOS'])\n",
    "print(f\"Pearson Correlation between WFNS vs eGOS: {res[0]:.2f} p-value: {res[1]:.2f}\" )"
   ]
  },
  {
   "cell_type": "code",
   "execution_count": 50,
   "metadata": {},
   "outputs": [
    {
     "name": "stdout",
     "output_type": "stream",
     "text": [
      "Pearson Correlation between WFNS_Group_Num vs eGOS: -0.44 p-value: 0.06\n"
     ]
    },
    {
     "data": {
      "image/png": "[encoded data removed]",
      "text/plain": [
       "<Figure size 640x480 with 1 Axes>"
      ]
     },
     "metadata": {},
     "output_type": "display_data"
    }
   ],
   "source": [
    "# Relationship with numerical variables (Age vs WFNS_Group_Num)\n",
    "# Scatter plot\n",
    "result = sub_data.loc[:,[\"WFNS_Group_Num\",\"eGOS\"]]\n",
    "result.plot.scatter(x=\"WFNS_Group_Num\", y='eGOS')\n",
    "# Correlation\n",
    "res = stats.pearsonr(data['WFNS_Group_Num'], data['eGOS'])\n",
    "print(f\"Pearson Correlation between WFNS_Group_Num vs eGOS: {res[0]:.2f} p-value: {res[1]:.2f}\" )"
   ]
  },
  {
   "cell_type": "code",
   "execution_count": 51,
   "metadata": {},
   "outputs": [
    {
     "name": "stdout",
     "output_type": "stream",
     "text": [
      "Pearson Correlation between WFNS_Group_Num vs WFNS: 0.84 p-value: 0.00\n"
     ]
    },
    {
     "data": {
      "image/png": "[encoded data removed]",
      "text/plain": [
       "<Figure size 640x480 with 1 Axes>"
      ]
     },
     "metadata": {},
     "output_type": "display_data"
    }
   ],
   "source": [
    "# Relationship with numerical variables (Age vs WFNS_Group_Num)\n",
    "# Scatter plot\n",
    "result = sub_data.loc[:,[\"WFNS_Group_Num\",\"WFNS\"]]\n",
    "result.plot.scatter(x=\"WFNS_Group_Num\", y='WFNS')\n",
    "# Correlation\n",
    "res = stats.pearsonr(data['WFNS_Group_Num'], data['WFNS'])\n",
    "print(f\"Pearson Correlation between WFNS_Group_Num vs WFNS: {res[0]:.2f} p-value: {res[1]:.2f}\" )"
   ]
  },
  {
   "attachments": {},
   "cell_type": "markdown",
   "metadata": {},
   "source": [
    "### WFNS Group"
   ]
  },
  {
   "cell_type": "code",
   "execution_count": null,
   "metadata": {},
   "outputs": [],
   "source": [
    "\n",
    "from scipy.stats import spearmanr\n",
    "# Spearman correlation\n",
    "col_data  = data.loc[:,[\"WFNS_Group_Num\",\"eGOS\", \"Total_SD\", \"Single_SD\", \"Clusters_SD\", \"Mean_LPRX\"]]\n",
    "res = col_data.corr(method=\"spearman\")\n",
    "#print(res.head())\n",
    "print(spearmanr(col_data))\n",
    "sbn.heatmap(res, vmin=-1,vmax=1, annot=True, fmt='.2f', annot_kws={'size': 8})"
   ]
  },
  {
   "cell_type": "code",
   "execution_count": null,
   "metadata": {},
   "outputs": [],
   "source": [
    "# Spearman correlation\n",
    "col_data = sub_data.loc[:,[\n",
    "                        'DCI_No', 'DCI_Probably', 'DCI_Yes',\n",
    "                        \"WFNS_Group_Num\"]]\n",
    "res = col_data.corr(method=\"spearman\")\n",
    "print(spearmanr(col_data))\n",
    "sbn.heatmap(res, vmin=-1,vmax=1, annot=True, fmt='.2f', annot_kws={'size': 8})"
   ]
  },
  {
   "attachments": {},
   "cell_type": "markdown",
   "metadata": {},
   "source": [
    "### eGOS"
   ]
  },
  {
   "cell_type": "code",
   "execution_count": null,
   "metadata": {},
   "outputs": [],
   "source": [
    "\n",
    "from scipy.stats import spearmanr\n",
    "# Spearman correlation\n",
    "col_data  = data.loc[:,[\"eGOS\",\"eGOS\", \"Total_SD\", \"Single_SD\", \"Clusters_SD\", \"Mean_LPRX\"]]\n",
    "res = col_data.corr(method=\"spearman\")\n",
    "#print(res.head())\n",
    "print(spearmanr(col_data))\n",
    "sbn.heatmap(res, vmin=-1,vmax=1, annot=True, fmt='.2f', annot_kws={'size': 8})"
   ]
  },
  {
   "attachments": {},
   "cell_type": "markdown",
   "metadata": {},
   "source": [
    "### DCI"
   ]
  },
  {
   "cell_type": "code",
   "execution_count": 52,
   "metadata": {},
   "outputs": [],
   "source": [
    "# sub_data[\"Total_SD\"] = data[\"Total_SD\"]\n",
    "# sub_data[\"Single_SD\"] = data[\"Single_SD\"]\n",
    "# sub_data[\"Clusters_SD\"] = data[\"Clusters_SD\"]\n",
    "# print(data.columns)\n",
    "# print(sub_data.columns)"
   ]
  },
  {
   "cell_type": "code",
   "execution_count": null,
   "metadata": {},
   "outputs": [],
   "source": [
    "# Spearman correlation\n",
    "#['Age', 'Sex_Num', 'WFNS_Group_Num', 'WFNS', 'eGOS', 'Single_SD', 'Clusters_SD', 'Mean_LPRX']\n",
    "col_data = sub_data.loc[:,[\n",
    "                        'Total_SD', 'Single_SD', 'Clusters_SD', \"Mean_LPRX\",\n",
    "                        'DCI_No', 'DCI_Probably', 'DCI_Yes']]\n",
    "res = col_data.corr(method=\"spearman\")\n",
    "#print(res.head())\n",
    "print(spearmanr(col_data))\n",
    "sbn.heatmap(res, vmin=-1,vmax=1, annot=True, fmt='.2f', annot_kws={'size': 8})"
   ]
  },
  {
   "attachments": {},
   "cell_type": "markdown",
   "metadata": {},
   "source": [
    "### Age"
   ]
  },
  {
   "cell_type": "code",
   "execution_count": null,
   "metadata": {},
   "outputs": [],
   "source": [
    "#correlation matrix\n",
    "sub_data_corr = sub_data.loc[:,\n",
    "                             ['Age', 'Sex_Num','Single_SD', 'Clusters_SD', 'Mean_LPRX']]\n",
    "\n",
    "corrmat = sub_data_corr.corr()\n",
    "#print(res.head())\n",
    "_result = pearsonr(sub_data['Age'], sub_data['Sex_Num'])\n",
    "print(_result)\n",
    "_result = pearsonr(sub_data['Age'], sub_data['Single_SD'])\n",
    "print(_result)\n",
    "_result = pearsonr(sub_data['Age'], sub_data['Clusters_SD'])\n",
    "print(_result)\n",
    "_result = pearsonr(sub_data['Age'], sub_data['Mean_LPRX'])\n",
    "print(_result)\n",
    "sbn.heatmap(corrmat, cbar=True, annot=True, vmin=-1,vmax=1, square=True, fmt='.2f', annot_kws={'size': 8})"
   ]
  },
  {
   "cell_type": "code",
   "execution_count": null,
   "metadata": {},
   "outputs": [],
   "source": [
    "# Spearman correlation\n",
    "#['Age', 'Sex_Num', 'WFNS_Group_Num', 'WFNS', 'eGOS', 'Single_SD', 'Clusters_SD', 'Mean_LPRX']\n",
    "col_data = sub_data.loc[:,[\n",
    "                        'Age', 'WFNS_Group_Num', 'eGOS',\n",
    "                        'DCI_No', 'DCI_Probably', 'DCI_Yes']]\n",
    "res = col_data.corr(method=\"spearman\")\n",
    "#print(res.head())\n",
    "print(spearmanr(col_data))\n",
    "sbn.heatmap(res, vmin=-1,vmax=1, annot=True, fmt='.2f', annot_kws={'size': 8})"
   ]
  },
  {
   "attachments": {},
   "cell_type": "markdown",
   "metadata": {},
   "source": [
    "### Sex"
   ]
  },
  {
   "cell_type": "code",
   "execution_count": null,
   "metadata": {},
   "outputs": [],
   "source": [
    "# Spearman correlation\n",
    "#['Age', 'Sex_Num', 'WFNS_Group_Num', 'WFNS', 'eGOS', 'Single_SD', 'Clusters_SD', 'Mean_LPRX']\n",
    "col_data = sub_data.loc[:,[\n",
    "                        'Sex_Num', 'WFNS', 'WFNS_Group_Num', 'eGOS', 'Single_SD', 'Clusters_SD', 'Mean_LPRX',\n",
    "                        'DCI_No', 'DCI_Probably', 'DCI_Yes']]\n",
    "res = col_data.corr(method=\"spearman\")\n",
    "#print(res.head())\n",
    "print(spearmanr(col_data))\n",
    "sbn.heatmap(res, vmin=-1,vmax=1, annot=True, fmt='.2f', annot_kws={'size': 8})"
   ]
  },
  {
   "attachments": {},
   "cell_type": "markdown",
   "metadata": {},
   "source": [
    "### Aneurysm location"
   ]
  },
  {
   "cell_type": "code",
   "execution_count": null,
   "metadata": {},
   "outputs": [],
   "source": [
    "# Spearman correlation\n",
    "#['Age', 'Sex_Num', 'WFNS_Group_Num', 'WFNS', 'eGOS', 'Single_SD', 'Clusters_SD', 'Mean_LPRX']\n",
    "col_data = sub_data.loc[:,[\n",
    "                        'AL_Acom', 'AL_ICA-L (Pcom)', 'AL_ICA-R', 'AL_ICA-R (Pcom)', 'AL_MCA-L', 'AL_MCA-R',\n",
    "                        #'Sex_Num', 'WFNS', 'WFNS_Group_Num', 'eGOS', 'Single_SD', 'Clusters_SD', 'Mean_LPRX',\n",
    "                        'DCI_No', 'DCI_Probably', 'DCI_Yes']]\n",
    "res = col_data.corr(method=\"spearman\")\n",
    "#print(res.head())\n",
    "print(spearmanr(col_data))\n",
    "sbn.heatmap(res, vmin=-1,vmax=1, annot=True, fmt='.2f', annot_kws={'size': 8})"
   ]
  },
  {
   "cell_type": "code",
   "execution_count": null,
   "metadata": {},
   "outputs": [],
   "source": [
    "# Spearman correlation\n",
    "#['Age', 'Sex_Num', 'WFNS_Group_Num', 'WFNS', 'eGOS', 'Single_SD', 'Clusters_SD', 'Mean_LPRX']\n",
    "col_data = sub_data.loc[:,[\n",
    "                        'AL_Acom', 'AL_ICA-L (Pcom)', 'AL_ICA-R', 'AL_ICA-R (Pcom)', 'AL_MCA-L', 'AL_MCA-R',\n",
    "                        'Sex_Num', 'WFNS', 'WFNS_Group_Num'\n",
    "                        ]] # 'eGOS', 'Single_SD', 'Clusters_SD', 'Mean_LPRX'\n",
    "res = col_data.corr(method=\"spearman\")\n",
    "#print(res.head())\n",
    "print(spearmanr(col_data))\n",
    "sbn.heatmap(res, vmin=-1,vmax=1, annot=True, fmt='.2f', annot_kws={'size': 8})"
   ]
  },
  {
   "cell_type": "code",
   "execution_count": null,
   "metadata": {},
   "outputs": [],
   "source": [
    "# Spearman correlation\n",
    "#['Age', 'Sex_Num', 'WFNS_Group_Num', 'WFNS', 'eGOS', 'Single_SD', 'Clusters_SD', 'Mean_LPRX']\n",
    "col_data = sub_data.loc[:,[\n",
    "                        'AL_Acom', 'AL_ICA-L (Pcom)', 'AL_ICA-R', 'AL_ICA-R (Pcom)', 'AL_MCA-L', 'AL_MCA-R',\n",
    "                        'eGOS', 'Single_SD', 'Clusters_SD', 'Mean_LPRX'\n",
    "                        ]] \n",
    "res = col_data.corr(method=\"spearman\")\n",
    "#print(res.head())\n",
    "print(spearmanr(col_data))\n",
    "sbn.heatmap(res, vmin=-1,vmax=1, annot=True, fmt='.2f', annot_kws={'size': 8})"
   ]
  },
  {
   "attachments": {},
   "cell_type": "markdown",
   "metadata": {},
   "source": [
    "## Point Biserial Correlation"
   ]
  },
  {
   "cell_type": "code",
   "execution_count": 140,
   "metadata": {},
   "outputs": [
    {
     "name": "stdout",
     "output_type": "stream",
     "text": [
      "WFNS vs Mean_LPRX:  statistic: 0.02 p-value: 0.95\n",
      "WFNS vs Single_SD:  statistic: -0.34 p-value: 0.16\n",
      "WFNS vs Clusters_SD:  statistic: 0.09 p-value: 0.72\n",
      "WFNS vs Total_SD:  statistic: -0.14 p-value: 0.57\n",
      "WFNS vs SD_Day:  statistic: -0.02 p-value: 0.95\n",
      "WFNS vs Age:  statistic: -0.04 p-value: 0.86\n"
     ]
    }
   ],
   "source": [
    "from scipy.stats import pointbiserialr\n",
    "pbc = pointbiserialr(data[\"WFNS\"], data[\"Mean_LPRX\"])\n",
    "print(f\"WFNS vs Mean_LPRX:  statistic: {pbc[0]:.2f} p-value: {pbc[1]:.2f}\")\n",
    "pbc = pointbiserialr(data[\"WFNS\"], data[\"Single_SD\"])\n",
    "print(f\"WFNS vs Single_SD:  statistic: {pbc[0]:.2f} p-value: {pbc[1]:.2f}\")\n",
    "pbc = pointbiserialr(data[\"WFNS\"], data[\"Clusters_SD\"])\n",
    "print(f\"WFNS vs Clusters_SD:  statistic: {pbc[0]:.2f} p-value: {pbc[1]:.2f}\")\n",
    "pbc = pointbiserialr(data[\"WFNS\"], data[\"Total_SD\"])\n",
    "print(f\"WFNS vs Total_SD:  statistic: {pbc[0]:.2f} p-value: {pbc[1]:.2f}\")\n",
    "pbc = pointbiserialr(data[\"WFNS\"], data[\"SD_Day\"])\n",
    "print(f\"WFNS vs SD_Day:  statistic: {pbc[0]:.2f} p-value: {pbc[1]:.2f}\")\n",
    "pbc = pointbiserialr(data[\"WFNS\"], data[\"Age\"])\n",
    "print(f\"WFNS vs Age:  statistic: {pbc[0]:.2f} p-value: {pbc[1]:.2f}\")\n",
    "#stats.pointbiserialr(a, b)"
   ]
  },
  {
   "cell_type": "code",
   "execution_count": 141,
   "metadata": {},
   "outputs": [
    {
     "name": "stdout",
     "output_type": "stream",
     "text": [
      "WFNS_Group_Num vs Mean_LPRX:  statistic: 0.03 p-value: 0.90\n",
      "WFNS_Group_Num vs Single_SD:  statistic: -0.16 p-value: 0.52\n",
      "WFNS_Group_Num vs Clusters_SD:  statistic: 0.23 p-value: 0.34\n",
      "WFNS_Group_Num vs Total_SD:  statistic: 0.07 p-value: 0.77\n",
      "WFNS_Group_Num vs SD_Day:  statistic: 0.20 p-value: 0.41\n",
      "WFNS_Group_Num vs Age:  statistic: 0.00 p-value: 1.00\n"
     ]
    }
   ],
   "source": [
    "from scipy.stats import pointbiserialr\n",
    "pbc = pointbiserialr(data[\"WFNS_Group_Num\"], data[\"Mean_LPRX\"])\n",
    "print(f\"WFNS_Group_Num vs Mean_LPRX:  statistic: {pbc[0]:.2f} p-value: {pbc[1]:.2f}\")\n",
    "pbc = pointbiserialr(data[\"WFNS_Group_Num\"], data[\"Single_SD\"])\n",
    "print(f\"WFNS_Group_Num vs Single_SD:  statistic: {pbc[0]:.2f} p-value: {pbc[1]:.2f}\")\n",
    "pbc = pointbiserialr(data[\"WFNS_Group_Num\"], data[\"Clusters_SD\"])\n",
    "print(f\"WFNS_Group_Num vs Clusters_SD:  statistic: {pbc[0]:.2f} p-value: {pbc[1]:.2f}\")\n",
    "pbc = pointbiserialr(data[\"WFNS_Group_Num\"], data[\"Total_SD\"])\n",
    "print(f\"WFNS_Group_Num vs Total_SD:  statistic: {pbc[0]:.2f} p-value: {pbc[1]:.2f}\")\n",
    "pbc = pointbiserialr(data[\"WFNS_Group_Num\"], data[\"SD_Day\"])\n",
    "print(f\"WFNS_Group_Num vs SD_Day:  statistic: {pbc[0]:.2f} p-value: {pbc[1]:.2f}\")\n",
    "pbc = pointbiserialr(data[\"WFNS_Group_Num\"], data[\"Age\"])\n",
    "print(f\"WFNS_Group_Num vs Age:  statistic: {pbc[0]:.2f} p-value: {pbc[1]:.2f}\")\n",
    "#stats.pointbiserialr(a, b)"
   ]
  },
  {
   "cell_type": "code",
   "execution_count": 144,
   "metadata": {},
   "outputs": [
    {
     "name": "stdout",
     "output_type": "stream",
     "text": [
      "Sex vs Mean_LPRX:  statistic: -0.05 p-value: 0.85\n",
      "Sex vs Single_SD:  statistic: 0.05 p-value: 0.84\n",
      "Sex vs Clusters_SD:  statistic: -0.32 p-value: 0.18\n",
      "Sex vs Total_SD:  statistic: -0.20 p-value: 0.41\n",
      "Sex vs SD_Day:  statistic: -0.25 p-value: 0.29\n",
      "Sex vs Age:  statistic: 0.16 p-value: 0.51\n"
     ]
    }
   ],
   "source": [
    "from scipy.stats import pointbiserialr\n",
    "pbc = pointbiserialr(sub_data[\"Sex_Num\"], data[\"Mean_LPRX\"])\n",
    "print(f\"Sex vs Mean_LPRX:  statistic: {pbc[0]:.2f} p-value: {pbc[1]:.2f}\")\n",
    "pbc = pointbiserialr(sub_data[\"Sex_Num\"], data[\"Single_SD\"])\n",
    "print(f\"Sex vs Single_SD:  statistic: {pbc[0]:.2f} p-value: {pbc[1]:.2f}\")\n",
    "pbc = pointbiserialr(sub_data[\"Sex_Num\"], data[\"Clusters_SD\"])\n",
    "print(f\"Sex vs Clusters_SD:  statistic: {pbc[0]:.2f} p-value: {pbc[1]:.2f}\")\n",
    "pbc = pointbiserialr(sub_data[\"Sex_Num\"], data[\"Total_SD\"])\n",
    "print(f\"Sex vs Total_SD:  statistic: {pbc[0]:.2f} p-value: {pbc[1]:.2f}\")\n",
    "pbc = pointbiserialr(sub_data[\"Sex_Num\"], data[\"SD_Day\"])\n",
    "print(f\"Sex vs SD_Day:  statistic: {pbc[0]:.2f} p-value: {pbc[1]:.2f}\")\n",
    "pbc = pointbiserialr(sub_data[\"Sex_Num\"], data[\"Age\"])\n",
    "print(f\"Sex vs Age:  statistic: {pbc[0]:.2f} p-value: {pbc[1]:.2f}\")\n",
    "#stats.pointbiserialr(a, b)"
   ]
  },
  {
   "cell_type": "code",
   "execution_count": 134,
   "metadata": {},
   "outputs": [
    {
     "name": "stdout",
     "output_type": "stream",
     "text": [
      "eGOS vs Mean LPRX:  SignificanceResult(statistic=0.12087433289856155, pvalue=0.6220665339835298)\n"
     ]
    }
   ],
   "source": [
    "from scipy.stats import pointbiserialr\n",
    "pbc = pointbiserialr(data[\"eGOS\"], data[\"Mean_LPRX\"])\n",
    "print(\"eGOS vs Mean LPRX: \", pbc)\n"
   ]
  },
  {
   "cell_type": "code",
   "execution_count": 16,
   "metadata": {},
   "outputs": [],
   "source": [
    "\n",
    "# def performChi2test(col1,col2):\n",
    "#     print(\"-------------------------------------------------\")\n",
    "#     print(f\"-------- {col1} vs {col2} ------\")\n",
    "#     print(\"-------------------------------------------------\")\n",
    "#     # Cross tabulation between GENDER and APPROVE_LOAN\n",
    "#     CrosstabResult=pd.crosstab(index=sub_data[col1],columns=sub_data[col2])\n",
    "#     print(CrosstabResult)    \n",
    "#     # importing the required function\n",
    "#     from scipy.stats import chi2_contingency\n",
    "#     # Performing Chi-sq test (independence between 2 categorical values)\n",
    "#     ChiSqResult = chi2_contingency(CrosstabResult)    \n",
    "#     # Assumption(H0): The two columns are NOT related to each other\n",
    "#     # P-Value is the Probability of H0 being True\n",
    "#     # If P-value is > 0.05 then only we Accept the assumption(H0)\n",
    "#     print(f\"The P-Value of the ChiSq Test is: {ChiSqResult[1]:.4f}\")\n",
    "#     x = \"Variables not correlated to each other\" if ChiSqResult[1] > 0.05 else \"Variables correlated to each other\"\n",
    "#     print(x)    \n",
    "\n",
    "# #performChi2test(\"Sex\",\"Aneursym_location\")\n",
    "# #performChi2test(\"Sex\",\"DCI\")\n",
    "# performChi2test(\"Aneursym_location\",\"DCI\")"
   ]
  },
  {
   "attachments": {},
   "cell_type": "markdown",
   "metadata": {},
   "source": [
    "## Linear Regression"
   ]
  },
  {
   "cell_type": "code",
   "execution_count": null,
   "metadata": {},
   "outputs": [],
   "source": [
    "from sklearn import linear_model\n",
    "from sklearn.model_selection import train_test_split\n",
    "\n",
    "sub_data.columns\n",
    "\n",
    "X = sub_data.loc[:,['Age', 'Sex_Num', 'WFNS_Group_Num', 'WFNS', 'AL_Acom',\n",
    "       'AL_ICA-L (Pcom)', 'AL_ICA-R', 'AL_ICA-R (Pcom)', 'AL_MCA-L',\n",
    "       'AL_MCA-R',  'DCI_No', 'DCI_Probably', 'DCI_Yes', 'eGOS',\n",
    "       'Single_SD', 'Clusters_SD']]\n",
    "\n",
    "Y = sub_data[\"Mean_LPRX\"]\n",
    "\n",
    "X_train, X_test, Y_train, Y_test = train_test_split(X, Y, test_size = .20, random_state = 40)\n",
    "    \n",
    "model = linear_model.LinearRegression()\n",
    "model.fit(X_train, Y_train)\n",
    "predicted = model.predict(X_test)\n",
    "print(f\"Intercept: {model.intercept_} \\n Coefficients: {model.coef_} \\n R2 = {model.score(X, Y)}\")"
   ]
  },
  {
   "cell_type": "code",
   "execution_count": null,
   "metadata": {},
   "outputs": [],
   "source": [
    "import statsmodels.api as sm\n",
    "\n",
    "\n",
    "X = sub_data.loc[:,[\n",
    "        'Age', \n",
    "        'Sex_Num', \n",
    "        #'WFNS_Group_Num', \n",
    "        #'WFNS', \n",
    "        'AL_ICA-L (Pcom)', 'AL_ICA-R', 'AL_ICA-R (Pcom)', 'AL_MCA-L', 'AL_MCA-R', 'AL_Acom',\n",
    "        #'DCI_NUM', \n",
    "        'DCI_No', 'DCI_Probably', 'DCI_Yes', \n",
    "        #'eGOS',\n",
    "        #'Single_SD', \n",
    "        #'Clusters_SD'\n",
    "       ]]\n",
    "Y = sub_data[\"Mean_LPRX\"]\n",
    "#Y = sub_data[\"Mean_LPRX\"] clusters\n",
    "#Y = sub_data[\"Mean_LPRX\"]\n",
    "#Y = sub_data[\"Mean_LPRX\"]\n",
    "# y = x1 + x2 + x3 +...\n",
    "#fit linear regression model\n",
    "model = sm.OLS(Y, X).fit()\n",
    "\n",
    "#view model summary\n",
    "print(model.summary())"
   ]
  },
  {
   "cell_type": "code",
   "execution_count": 19,
   "metadata": {},
   "outputs": [],
   "source": [
    "#display regression coefficients and R-squared value of model\n",
    "\n",
    "from scipy.stats import chi2_contingency\n",
    "  \n",
    "# defining the table\n",
    "data = [data[\"Age\"], data[\"\"]]\n",
    "stat, p, dof, expected = chi2_contingency(data)\n",
    "  \n",
    "# interpret p-value\n",
    "alpha = 0.05\n",
    "print(\"p value is \" + str(p))\n",
    "if p <= alpha:\n",
    "    print('Dependent (reject H0)')\n",
    "else:\n",
    "    print('Independent (H0 holds true)')"
   ]
  },
  {
   "cell_type": "code",
   "execution_count": 53,
   "metadata": {},
   "outputs": [],
   "source": [
    "def cramers_v(x, y):\n",
    "    confusion_matrix = pd.crosstab(x,y)\n",
    "    chi2 = ss.chi2_contingency(confusion_matrix)[0]\n",
    "    n = confusion_matrix.sum().sum()\n",
    "    phi2 = chi2/n\n",
    "    r,k = confusion_matrix.shape\n",
    "    phi2corr = max(0, phi2-((k-1)*(r-1))/(n-1))\n",
    "    rcorr = r-((r-1)**2)/(n-1)\n",
    "    kcorr = k-((k-1)**2)/(n-1)\n",
    "    return np.sqrt(phi2corr/min((kcorr-1),(rcorr-1)))"
   ]
  },
  {
   "cell_type": "code",
   "execution_count": 54,
   "metadata": {},
   "outputs": [
    {
     "data": {
      "text/html": [
       "<div>\n",
       "<style scoped>\n",
       "    .dataframe tbody tr th:only-of-type {\n",
       "        vertical-align: middle;\n",
       "    }\n",
       "\n",
       "    .dataframe tbody tr th {\n",
       "        vertical-align: top;\n",
       "    }\n",
       "\n",
       "    .dataframe thead th {\n",
       "        text-align: right;\n",
       "    }\n",
       "</style>\n",
       "<table border=\"1\" class=\"dataframe\">\n",
       "  <thead>\n",
       "    <tr style=\"text-align: right;\">\n",
       "      <th></th>\n",
       "      <th>Patient</th>\n",
       "      <th>Age</th>\n",
       "      <th>Sex</th>\n",
       "      <th>WFNS_Group</th>\n",
       "      <th>WFNS</th>\n",
       "      <th>Aneursym_location</th>\n",
       "      <th>DCI</th>\n",
       "      <th>eGOS</th>\n",
       "      <th>SD_Day</th>\n",
       "      <th>Total_SD</th>\n",
       "      <th>Single_SD</th>\n",
       "      <th>Clusters_SD</th>\n",
       "      <th>Mean_LPRX</th>\n",
       "      <th>Sex_Num</th>\n",
       "      <th>WFNS_Group_Num</th>\n",
       "    </tr>\n",
       "  </thead>\n",
       "  <tbody>\n",
       "    <tr>\n",
       "      <th>0</th>\n",
       "      <td>HD-1</td>\n",
       "      <td>55</td>\n",
       "      <td>F</td>\n",
       "      <td>high-grade</td>\n",
       "      <td>4</td>\n",
       "      <td>Acom</td>\n",
       "      <td>Yes</td>\n",
       "      <td>0</td>\n",
       "      <td>4.6</td>\n",
       "      <td>46</td>\n",
       "      <td>24</td>\n",
       "      <td>22</td>\n",
       "      <td>0.18</td>\n",
       "      <td>0</td>\n",
       "      <td>1</td>\n",
       "    </tr>\n",
       "    <tr>\n",
       "      <th>1</th>\n",
       "      <td>HD-2</td>\n",
       "      <td>38</td>\n",
       "      <td>M</td>\n",
       "      <td>high-grade</td>\n",
       "      <td>4</td>\n",
       "      <td>Acom</td>\n",
       "      <td>Yes</td>\n",
       "      <td>3</td>\n",
       "      <td>1.1</td>\n",
       "      <td>6</td>\n",
       "      <td>6</td>\n",
       "      <td>0</td>\n",
       "      <td>0.10</td>\n",
       "      <td>1</td>\n",
       "      <td>1</td>\n",
       "    </tr>\n",
       "    <tr>\n",
       "      <th>2</th>\n",
       "      <td>HD-3</td>\n",
       "      <td>28</td>\n",
       "      <td>F</td>\n",
       "      <td>high-grade</td>\n",
       "      <td>5</td>\n",
       "      <td>ICA-R</td>\n",
       "      <td>Yes</td>\n",
       "      <td>3</td>\n",
       "      <td>0.4</td>\n",
       "      <td>4</td>\n",
       "      <td>4</td>\n",
       "      <td>0</td>\n",
       "      <td>-0.04</td>\n",
       "      <td>0</td>\n",
       "      <td>1</td>\n",
       "    </tr>\n",
       "    <tr>\n",
       "      <th>3</th>\n",
       "      <td>HD-4</td>\n",
       "      <td>47</td>\n",
       "      <td>M</td>\n",
       "      <td>high-grade</td>\n",
       "      <td>5</td>\n",
       "      <td>Acom</td>\n",
       "      <td>No</td>\n",
       "      <td>4</td>\n",
       "      <td>0.8</td>\n",
       "      <td>3</td>\n",
       "      <td>3</td>\n",
       "      <td>0</td>\n",
       "      <td>0.26</td>\n",
       "      <td>1</td>\n",
       "      <td>1</td>\n",
       "    </tr>\n",
       "    <tr>\n",
       "      <th>4</th>\n",
       "      <td>HD-5</td>\n",
       "      <td>68</td>\n",
       "      <td>F</td>\n",
       "      <td>Low-grade</td>\n",
       "      <td>2</td>\n",
       "      <td>MCA-R</td>\n",
       "      <td>No</td>\n",
       "      <td>6</td>\n",
       "      <td>0.0</td>\n",
       "      <td>9</td>\n",
       "      <td>9</td>\n",
       "      <td>0</td>\n",
       "      <td>0.15</td>\n",
       "      <td>0</td>\n",
       "      <td>0</td>\n",
       "    </tr>\n",
       "    <tr>\n",
       "      <th>5</th>\n",
       "      <td>HD-6</td>\n",
       "      <td>52</td>\n",
       "      <td>F</td>\n",
       "      <td>high-grade</td>\n",
       "      <td>5</td>\n",
       "      <td>ICA-R</td>\n",
       "      <td>Yes</td>\n",
       "      <td>0</td>\n",
       "      <td>0.6</td>\n",
       "      <td>4</td>\n",
       "      <td>4</td>\n",
       "      <td>0</td>\n",
       "      <td>0.05</td>\n",
       "      <td>0</td>\n",
       "      <td>1</td>\n",
       "    </tr>\n",
       "    <tr>\n",
       "      <th>6</th>\n",
       "      <td>HD-7</td>\n",
       "      <td>78</td>\n",
       "      <td>M</td>\n",
       "      <td>high-grade</td>\n",
       "      <td>5</td>\n",
       "      <td>ICA-R (Pcom)</td>\n",
       "      <td>Yes</td>\n",
       "      <td>3</td>\n",
       "      <td>0.6</td>\n",
       "      <td>5</td>\n",
       "      <td>5</td>\n",
       "      <td>0</td>\n",
       "      <td>0.14</td>\n",
       "      <td>1</td>\n",
       "      <td>1</td>\n",
       "    </tr>\n",
       "    <tr>\n",
       "      <th>7</th>\n",
       "      <td>HD-8</td>\n",
       "      <td>46</td>\n",
       "      <td>M</td>\n",
       "      <td>high-grade</td>\n",
       "      <td>4</td>\n",
       "      <td>MCA-L</td>\n",
       "      <td>No</td>\n",
       "      <td>3</td>\n",
       "      <td>0.4</td>\n",
       "      <td>4</td>\n",
       "      <td>4</td>\n",
       "      <td>0</td>\n",
       "      <td>-0.20</td>\n",
       "      <td>1</td>\n",
       "      <td>1</td>\n",
       "    </tr>\n",
       "    <tr>\n",
       "      <th>8</th>\n",
       "      <td>HD-9</td>\n",
       "      <td>54</td>\n",
       "      <td>F</td>\n",
       "      <td>high-grade</td>\n",
       "      <td>4</td>\n",
       "      <td>MCA-L</td>\n",
       "      <td>No</td>\n",
       "      <td>2</td>\n",
       "      <td>0.7</td>\n",
       "      <td>5</td>\n",
       "      <td>5</td>\n",
       "      <td>0</td>\n",
       "      <td>0.34</td>\n",
       "      <td>0</td>\n",
       "      <td>1</td>\n",
       "    </tr>\n",
       "    <tr>\n",
       "      <th>9</th>\n",
       "      <td>HD-10</td>\n",
       "      <td>52</td>\n",
       "      <td>M</td>\n",
       "      <td>high-grade</td>\n",
       "      <td>5</td>\n",
       "      <td>Acom</td>\n",
       "      <td>Yes</td>\n",
       "      <td>0</td>\n",
       "      <td>1.0</td>\n",
       "      <td>4</td>\n",
       "      <td>4</td>\n",
       "      <td>0</td>\n",
       "      <td>0.00</td>\n",
       "      <td>1</td>\n",
       "      <td>1</td>\n",
       "    </tr>\n",
       "    <tr>\n",
       "      <th>10</th>\n",
       "      <td>HD-11</td>\n",
       "      <td>61</td>\n",
       "      <td>M</td>\n",
       "      <td>high-grade</td>\n",
       "      <td>4</td>\n",
       "      <td>Acom</td>\n",
       "      <td>No</td>\n",
       "      <td>3</td>\n",
       "      <td>2.9</td>\n",
       "      <td>35</td>\n",
       "      <td>26</td>\n",
       "      <td>9</td>\n",
       "      <td>0.16</td>\n",
       "      <td>1</td>\n",
       "      <td>1</td>\n",
       "    </tr>\n",
       "    <tr>\n",
       "      <th>11</th>\n",
       "      <td>HD-12</td>\n",
       "      <td>48</td>\n",
       "      <td>M</td>\n",
       "      <td>Low-grade</td>\n",
       "      <td>3</td>\n",
       "      <td>ICA-L (Pcom)</td>\n",
       "      <td>No</td>\n",
       "      <td>3</td>\n",
       "      <td>0.8</td>\n",
       "      <td>9</td>\n",
       "      <td>9</td>\n",
       "      <td>0</td>\n",
       "      <td>0.13</td>\n",
       "      <td>1</td>\n",
       "      <td>0</td>\n",
       "    </tr>\n",
       "    <tr>\n",
       "      <th>12</th>\n",
       "      <td>HD-13</td>\n",
       "      <td>43</td>\n",
       "      <td>F</td>\n",
       "      <td>Low-grade</td>\n",
       "      <td>3</td>\n",
       "      <td>MCA-L</td>\n",
       "      <td>No</td>\n",
       "      <td>4</td>\n",
       "      <td>1.9</td>\n",
       "      <td>16</td>\n",
       "      <td>16</td>\n",
       "      <td>0</td>\n",
       "      <td>-0.08</td>\n",
       "      <td>0</td>\n",
       "      <td>0</td>\n",
       "    </tr>\n",
       "    <tr>\n",
       "      <th>13</th>\n",
       "      <td>HD-14</td>\n",
       "      <td>46</td>\n",
       "      <td>F</td>\n",
       "      <td>Low-grade</td>\n",
       "      <td>3</td>\n",
       "      <td>MCA-L</td>\n",
       "      <td>No</td>\n",
       "      <td>4</td>\n",
       "      <td>0.7</td>\n",
       "      <td>2</td>\n",
       "      <td>2</td>\n",
       "      <td>0</td>\n",
       "      <td>0.22</td>\n",
       "      <td>0</td>\n",
       "      <td>0</td>\n",
       "    </tr>\n",
       "    <tr>\n",
       "      <th>14</th>\n",
       "      <td>BE-1</td>\n",
       "      <td>42</td>\n",
       "      <td>F</td>\n",
       "      <td>high-grade</td>\n",
       "      <td>4</td>\n",
       "      <td>Acom</td>\n",
       "      <td>Probably</td>\n",
       "      <td>5</td>\n",
       "      <td>2.6</td>\n",
       "      <td>22</td>\n",
       "      <td>22</td>\n",
       "      <td>0</td>\n",
       "      <td>0.11</td>\n",
       "      <td>0</td>\n",
       "      <td>1</td>\n",
       "    </tr>\n",
       "    <tr>\n",
       "      <th>15</th>\n",
       "      <td>BE-2</td>\n",
       "      <td>53</td>\n",
       "      <td>F</td>\n",
       "      <td>high-grade</td>\n",
       "      <td>5</td>\n",
       "      <td>Acom</td>\n",
       "      <td>Probably</td>\n",
       "      <td>2</td>\n",
       "      <td>1.9</td>\n",
       "      <td>26</td>\n",
       "      <td>1</td>\n",
       "      <td>25</td>\n",
       "      <td>0.15</td>\n",
       "      <td>0</td>\n",
       "      <td>1</td>\n",
       "    </tr>\n",
       "    <tr>\n",
       "      <th>16</th>\n",
       "      <td>BE-3</td>\n",
       "      <td>53</td>\n",
       "      <td>M</td>\n",
       "      <td>high-grade</td>\n",
       "      <td>5</td>\n",
       "      <td>Acom</td>\n",
       "      <td>No</td>\n",
       "      <td>5</td>\n",
       "      <td>1.3</td>\n",
       "      <td>11</td>\n",
       "      <td>11</td>\n",
       "      <td>0</td>\n",
       "      <td>0.24</td>\n",
       "      <td>1</td>\n",
       "      <td>1</td>\n",
       "    </tr>\n",
       "    <tr>\n",
       "      <th>17</th>\n",
       "      <td>BE-4</td>\n",
       "      <td>47</td>\n",
       "      <td>M</td>\n",
       "      <td>Low-grade</td>\n",
       "      <td>3</td>\n",
       "      <td>MCA-L</td>\n",
       "      <td>No</td>\n",
       "      <td>4</td>\n",
       "      <td>2.0</td>\n",
       "      <td>29</td>\n",
       "      <td>23</td>\n",
       "      <td>6</td>\n",
       "      <td>0.09</td>\n",
       "      <td>1</td>\n",
       "      <td>0</td>\n",
       "    </tr>\n",
       "    <tr>\n",
       "      <th>18</th>\n",
       "      <td>BE-5</td>\n",
       "      <td>47</td>\n",
       "      <td>F</td>\n",
       "      <td>high-grade</td>\n",
       "      <td>4</td>\n",
       "      <td>MCA-L</td>\n",
       "      <td>No</td>\n",
       "      <td>3</td>\n",
       "      <td>8.7</td>\n",
       "      <td>37</td>\n",
       "      <td>6</td>\n",
       "      <td>31</td>\n",
       "      <td>0.06</td>\n",
       "      <td>0</td>\n",
       "      <td>1</td>\n",
       "    </tr>\n",
       "  </tbody>\n",
       "</table>\n",
       "</div>"
      ],
      "text/plain": [
       "   Patient  Age Sex  WFNS_Group  WFNS Aneursym_location       DCI  eGOS  \\\n",
       "0     HD-1   55   F  high-grade     4              Acom       Yes     0   \n",
       "1     HD-2   38   M  high-grade     4              Acom       Yes     3   \n",
       "2     HD-3   28   F  high-grade     5             ICA-R       Yes     3   \n",
       "3     HD-4   47   M  high-grade     5              Acom        No     4   \n",
       "4     HD-5   68   F   Low-grade     2             MCA-R        No     6   \n",
       "5     HD-6   52   F  high-grade     5             ICA-R       Yes     0   \n",
       "6     HD-7   78   M  high-grade     5      ICA-R (Pcom)       Yes     3   \n",
       "7     HD-8   46   M  high-grade     4             MCA-L        No     3   \n",
       "8     HD-9   54   F  high-grade     4             MCA-L        No     2   \n",
       "9    HD-10   52   M  high-grade     5              Acom       Yes     0   \n",
       "10   HD-11   61   M  high-grade     4              Acom        No     3   \n",
       "11   HD-12   48   M   Low-grade     3      ICA-L (Pcom)        No     3   \n",
       "12   HD-13   43   F   Low-grade     3             MCA-L        No     4   \n",
       "13   HD-14   46   F   Low-grade     3             MCA-L        No     4   \n",
       "14    BE-1   42   F  high-grade     4              Acom  Probably     5   \n",
       "15    BE-2   53   F  high-grade     5              Acom  Probably     2   \n",
       "16    BE-3   53   M  high-grade     5              Acom        No     5   \n",
       "17    BE-4   47   M   Low-grade     3             MCA-L        No     4   \n",
       "18    BE-5   47   F  high-grade     4             MCA-L        No     3   \n",
       "\n",
       "    SD_Day  Total_SD  Single_SD  Clusters_SD  Mean_LPRX  Sex_Num  \\\n",
       "0      4.6        46         24           22       0.18        0   \n",
       "1      1.1         6          6            0       0.10        1   \n",
       "2      0.4         4          4            0      -0.04        0   \n",
       "3      0.8         3          3            0       0.26        1   \n",
       "4      0.0         9          9            0       0.15        0   \n",
       "5      0.6         4          4            0       0.05        0   \n",
       "6      0.6         5          5            0       0.14        1   \n",
       "7      0.4         4          4            0      -0.20        1   \n",
       "8      0.7         5          5            0       0.34        0   \n",
       "9      1.0         4          4            0       0.00        1   \n",
       "10     2.9        35         26            9       0.16        1   \n",
       "11     0.8         9          9            0       0.13        1   \n",
       "12     1.9        16         16            0      -0.08        0   \n",
       "13     0.7         2          2            0       0.22        0   \n",
       "14     2.6        22         22            0       0.11        0   \n",
       "15     1.9        26          1           25       0.15        0   \n",
       "16     1.3        11         11            0       0.24        1   \n",
       "17     2.0        29         23            6       0.09        1   \n",
       "18     8.7        37          6           31       0.06        0   \n",
       "\n",
       "    WFNS_Group_Num  \n",
       "0                1  \n",
       "1                1  \n",
       "2                1  \n",
       "3                1  \n",
       "4                0  \n",
       "5                1  \n",
       "6                1  \n",
       "7                1  \n",
       "8                1  \n",
       "9                1  \n",
       "10               1  \n",
       "11               0  \n",
       "12               0  \n",
       "13               0  \n",
       "14               1  \n",
       "15               1  \n",
       "16               1  \n",
       "17               0  \n",
       "18               1  "
      ]
     },
     "execution_count": 54,
     "metadata": {},
     "output_type": "execute_result"
    }
   ],
   "source": [
    "data"
   ]
  },
  {
   "attachments": {},
   "cell_type": "markdown",
   "metadata": {},
   "source": [
    "### ANOVA WITH WFNS"
   ]
  },
  {
   "cell_type": "code",
   "execution_count": 104,
   "metadata": {},
   "outputs": [
    {
     "name": "stdout",
     "output_type": "stream",
     "text": [
      "WFNS\n",
      "2                                        [0.15]\n",
      "3                     [0.13, -0.08, 0.22, 0.09]\n",
      "4     [0.18, 0.1, -0.2, 0.34, 0.16, 0.11, 0.06]\n",
      "5    [-0.04, 0.26, 0.05, 0.14, 0.0, 0.15, 0.24]\n",
      "Name: Mean_LPRX, dtype: object\n",
      "P-Value for Anova is:  0.980825888372246\n"
     ]
    }
   ],
   "source": [
    "########################################################\n",
    "# Not valid\n",
    "########################################################\n",
    "# f_oneway() function takes the group data as input and \n",
    "# returns F-statistic and P-value\n",
    "from scipy.stats import f_oneway\n",
    " \n",
    "# Running the one-way anova test between CarPrice and FuelTypes\n",
    "# Assumption(H0) is that FuelType and CarPrices are NOT correlated\n",
    "\n",
    "# Finds out the Prices data for each FuelType as a list\n",
    "CategoryGroupLists= data.groupby(\"WFNS\")[\"Mean_LPRX\"].apply(list)\n",
    "print(CategoryGroupLists)\n",
    "# Performing the ANOVA test\n",
    "# We accept the Assumption(H0) only when P-Value &gt; 0.05\n",
    "AnovaResults = f_oneway(*CategoryGroupLists)\n",
    "print('P-Value for Anova is: ', AnovaResults[1])"
   ]
  },
  {
   "cell_type": "code",
   "execution_count": 103,
   "metadata": {},
   "outputs": [
    {
     "name": "stdout",
     "output_type": "stream",
     "text": [
      "WFNS\n",
      "2                            [68]\n",
      "3                [48, 43, 46, 47]\n",
      "4    [55, 38, 46, 54, 61, 42, 47]\n",
      "5    [28, 47, 52, 78, 52, 53, 53]\n",
      "Name: Age, dtype: object\n",
      "P-Value for Anova is:  0.33116191040746296\n"
     ]
    }
   ],
   "source": [
    "########################################################\n",
    "# Not valid\n",
    "########################################################\n",
    "# f_oneway() function takes the group data as input and \n",
    "# returns F-statistic and P-value\n",
    "from scipy.stats import f_oneway\n",
    " \n",
    "# Running the one-way anova test between CarPrice and FuelTypes\n",
    "# Assumption(H0) is that FuelType and CarPrices are NOT correlated\n",
    "\n",
    "# Finds out the Prices data for each FuelType as a list\n",
    "CategoryGroupLists= data.groupby(\"WFNS\")[\"Age\"].apply(list)\n",
    "print(CategoryGroupLists)\n",
    "# Performing the ANOVA test\n",
    "# We accept the Assumption(H0) only when P-Value &gt; 0.05\n",
    "AnovaResults = f_oneway(*CategoryGroupLists)\n",
    "print('P-Value for Anova is: ', AnovaResults[1])"
   ]
  },
  {
   "cell_type": "code",
   "execution_count": 94,
   "metadata": {},
   "outputs": [
    {
     "name": "stdout",
     "output_type": "stream",
     "text": [
      "WFNS\n",
      "2                        [0]\n",
      "3               [0, 0, 0, 6]\n",
      "4    [22, 0, 0, 0, 9, 0, 31]\n",
      "5     [0, 0, 0, 0, 0, 25, 0]\n",
      "Name: Clusters_SD, dtype: object\n",
      "P-Value for Anova is:  0.6102811394717242\n"
     ]
    }
   ],
   "source": [
    "########################################################\n",
    "# Not valid\n",
    "########################################################\n",
    "# f_oneway() function takes the group data as input and \n",
    "# returns F-statistic and P-value\n",
    "from scipy.stats import f_oneway\n",
    " \n",
    "# Running the one-way anova test between CarPrice and FuelTypes\n",
    "# Assumption(H0) is that FuelType and CarPrices are NOT correlated\n",
    "\n",
    "# Finds out the Prices data for each FuelType as a list\n",
    "CategoryGroupLists= data.groupby(\"WFNS\")[\"Clusters_SD\"].apply(list)\n",
    "print(CategoryGroupLists)\n",
    "# Performing the ANOVA test\n",
    "# We accept the Assumption(H0) only when P-Value &gt; 0.05\n",
    "AnovaResults = f_oneway(*CategoryGroupLists)\n",
    "print('P-Value for Anova is: ', AnovaResults[1])"
   ]
  },
  {
   "cell_type": "code",
   "execution_count": 96,
   "metadata": {},
   "outputs": [
    {
     "name": "stdout",
     "output_type": "stream",
     "text": [
      "WFNS\n",
      "2                         [9]\n",
      "3              [9, 16, 2, 23]\n",
      "4    [24, 6, 4, 5, 26, 22, 6]\n",
      "5      [4, 3, 4, 5, 4, 1, 11]\n",
      "Name: Single_SD, dtype: object\n",
      "P-Value for Anova is:  0.21596492766292175\n"
     ]
    }
   ],
   "source": [
    "########################################################\n",
    "# Not valid\n",
    "########################################################\n",
    "# f_oneway() function takes the group data as input and \n",
    "# returns F-statistic and P-value\n",
    "from scipy.stats import f_oneway\n",
    " \n",
    "# Running the one-way anova test between CarPrice and FuelTypes\n",
    "# Assumption(H0) is that FuelType and CarPrices are NOT correlated\n",
    "\n",
    "# Finds out the Prices data for each FuelType as a list\n",
    "CategoryGroupLists= data.groupby(\"WFNS\")[\"Single_SD\"].apply(list)\n",
    "print(CategoryGroupLists)\n",
    "# Performing the ANOVA test\n",
    "# We accept the Assumption(H0) only when P-Value &gt; 0.05\n",
    "AnovaResults = f_oneway(*CategoryGroupLists)\n",
    "print('P-Value for Anova is: ', AnovaResults[1])"
   ]
  },
  {
   "cell_type": "code",
   "execution_count": 97,
   "metadata": {},
   "outputs": [
    {
     "name": "stdout",
     "output_type": "stream",
     "text": [
      "WFNS\n",
      "2                                  [0.0]\n",
      "3                   [0.8, 1.9, 0.7, 2.0]\n",
      "4    [4.6, 1.1, 0.4, 0.7, 2.9, 2.6, 8.7]\n",
      "5    [0.4, 0.8, 0.6, 0.6, 1.0, 1.9, 1.3]\n",
      "Name: SD_Day, dtype: object\n",
      "P-Value for Anova is:  0.19412522536925517\n"
     ]
    }
   ],
   "source": [
    "########################################################\n",
    "# Not valid\n",
    "########################################################\n",
    "# f_oneway() function takes the group data as input and \n",
    "# returns F-statistic and P-value\n",
    "from scipy.stats import f_oneway\n",
    " \n",
    "# Running the one-way anova test between CarPrice and FuelTypes\n",
    "# Assumption(H0) is that FuelType and CarPrices are NOT correlated\n",
    "\n",
    "# Finds out the Prices data for each FuelType as a list\n",
    "CategoryGroupLists= data.groupby(\"WFNS\")[\"SD_Day\"].apply(list)\n",
    "print(CategoryGroupLists)\n",
    "# Performing the ANOVA test\n",
    "# We accept the Assumption(H0) only when P-Value &gt; 0.05\n",
    "AnovaResults = f_oneway(*CategoryGroupLists)\n",
    "print('P-Value for Anova is: ', AnovaResults[1])"
   ]
  },
  {
   "cell_type": "code",
   "execution_count": 128,
   "metadata": {},
   "outputs": [
    {
     "name": "stdout",
     "output_type": "stream",
     "text": [
      "WFNS\n",
      "2                          [9]\n",
      "3               [9, 16, 2, 29]\n",
      "4    [46, 6, 4, 5, 35, 22, 37]\n",
      "5      [4, 3, 4, 5, 4, 26, 11]\n",
      "Name: Total_SD, dtype: object\n",
      "P-Value for Anova is:  0.29200457309511596\n"
     ]
    }
   ],
   "source": [
    "########################################################\n",
    "# Not valid\n",
    "########################################################\n",
    "# f_oneway() function takes the group data as input and \n",
    "# returns F-statistic and P-value\n",
    "from scipy.stats import f_oneway\n",
    " \n",
    "# Running the one-way anova test between CarPrice and FuelTypes\n",
    "# Assumption(H0) is that FuelType and CarPrices are NOT correlated\n",
    "\n",
    "# Finds out the Prices data for each FuelType as a list\n",
    "CategoryGroupLists= data.groupby(\"WFNS\")[\"Total_SD\"].apply(list)\n",
    "print(CategoryGroupLists)\n",
    "# Performing the ANOVA test\n",
    "# We accept the Assumption(H0) only when P-Value &gt; 0.05\n",
    "AnovaResults = f_oneway(*CategoryGroupLists)\n",
    "print('P-Value for Anova is: ', AnovaResults[1])"
   ]
  },
  {
   "attachments": {},
   "cell_type": "markdown",
   "metadata": {},
   "source": [
    "### ANOVA with WFNS GROUP"
   ]
  },
  {
   "cell_type": "code",
   "execution_count": 93,
   "metadata": {},
   "outputs": [
    {
     "name": "stdout",
     "output_type": "stream",
     "text": [
      "WFNS_Group\n",
      "Low-grade                             [0.0, 0.8, 1.9, 0.7, 2.0]\n",
      "high-grade    [4.6, 1.1, 0.4, 0.8, 0.6, 0.6, 0.4, 0.7, 1.0, ...\n",
      "Name: SD_Day, dtype: object\n",
      "P-Value for Anova is:  0.41146316475071143\n"
     ]
    }
   ],
   "source": [
    "########################################################\n",
    "# Not valid\n",
    "########################################################\n",
    "# f_oneway() function takes the group data as input and \n",
    "# returns F-statistic and P-value\n",
    "from scipy.stats import f_oneway\n",
    " \n",
    "# Running the one-way anova test between CarPrice and FuelTypes\n",
    "# Assumption(H0) is that FuelType and CarPrices are NOT correlated\n",
    "\n",
    "# Finds out the Prices data for each FuelType as a list\n",
    "CategoryGroupLists= data.groupby(\"WFNS_Group\")[\"SD_Day\"].apply(list)\n",
    "print(CategoryGroupLists)\n",
    "# Performing the ANOVA test\n",
    "# We accept the Assumption(H0) only when P-Value &gt; 0.05\n",
    "AnovaResults = f_oneway(*CategoryGroupLists)\n",
    "print('P-Value for Anova is: ', AnovaResults[1])"
   ]
  },
  {
   "cell_type": "code",
   "execution_count": null,
   "metadata": {},
   "outputs": [],
   "source": []
  },
  {
   "cell_type": "code",
   "execution_count": 86,
   "metadata": {},
   "outputs": [
    {
     "name": "stdout",
     "output_type": "stream",
     "text": [
      "WFNS_Group\n",
      "Low-grade                                  [68, 48, 43, 46, 47]\n",
      "high-grade    [55, 38, 28, 47, 52, 78, 46, 54, 52, 61, 42, 5...\n",
      "Name: Age, dtype: object\n",
      "P-Value for Anova is:  0.9961173963089911\n"
     ]
    }
   ],
   "source": [
    "########################################################\n",
    "# Not valid\n",
    "########################################################\n",
    "# f_oneway() function takes the group data as input and \n",
    "# returns F-statistic and P-value\n",
    "from scipy.stats import f_oneway\n",
    " \n",
    "# Running the one-way anova test between CarPrice and FuelTypes\n",
    "# Assumption(H0) is that FuelType and CarPrices are NOT correlated\n",
    "\n",
    "# Finds out the Prices data for each FuelType as a list\n",
    "CategoryGroupLists= data.groupby(\"WFNS_Group\")[\"Age\"].apply(list)\n",
    "print(CategoryGroupLists)\n",
    "# Performing the ANOVA test\n",
    "# We accept the Assumption(H0) only when P-Value &gt; 0.05\n",
    "AnovaResults = f_oneway(*CategoryGroupLists)\n",
    "print('P-Value for Anova is: ', AnovaResults[1])"
   ]
  },
  {
   "cell_type": "code",
   "execution_count": 127,
   "metadata": {},
   "outputs": [
    {
     "name": "stdout",
     "output_type": "stream",
     "text": [
      "WFNS_Group\n",
      "Low-grade                       [0.15, 0.13, -0.08, 0.22, 0.09]\n",
      "high-grade    [0.18, 0.1, -0.04, 0.26, 0.05, 0.14, -0.2, 0.3...\n",
      "Name: Mean_LPRX, dtype: object\n",
      "P-Value for Anova is:  0.8994924278052399\n"
     ]
    }
   ],
   "source": [
    "########################################################\n",
    "# Not valid\n",
    "########################################################\n",
    "# f_oneway() function takes the group data as input and \n",
    "# returns F-statistic and P-value\n",
    "from scipy.stats import f_oneway\n",
    " \n",
    "# Running the one-way anova test between CarPrice and FuelTypes\n",
    "# Assumption(H0) is that FuelType and CarPrices are NOT correlated\n",
    "\n",
    "# Finds out the Prices data for each FuelType as a list\n",
    "CategoryGroupLists= data.groupby(\"WFNS_Group\")[\"Mean_LPRX\"].apply(list)\n",
    "print(CategoryGroupLists)\n",
    "# Performing the ANOVA test\n",
    "# We accept the Assumption(H0) only when P-Value &gt; 0.05\n",
    "AnovaResults = f_oneway(*CategoryGroupLists)\n",
    "print('P-Value for Anova is: ', AnovaResults[1])"
   ]
  },
  {
   "cell_type": "code",
   "execution_count": 88,
   "metadata": {},
   "outputs": [
    {
     "name": "stdout",
     "output_type": "stream",
     "text": [
      "WFNS_Group\n",
      "Low-grade                                    [9, 9, 16, 2, 29]\n",
      "high-grade    [46, 6, 4, 3, 4, 5, 4, 5, 4, 35, 22, 26, 11, 37]\n",
      "Name: Total_SD, dtype: object\n",
      "P-Value for Anova is:  0.773321665357541\n"
     ]
    }
   ],
   "source": [
    "########################################################\n",
    "# Not valid\n",
    "########################################################\n",
    "# f_oneway() function takes the group data as input and \n",
    "# returns F-statistic and P-value\n",
    "from scipy.stats import f_oneway\n",
    " \n",
    "# Running the one-way anova test between CarPrice and FuelTypes\n",
    "# Assumption(H0) is that FuelType and CarPrices are NOT correlated\n",
    "\n",
    "# Finds out the Prices data for each FuelType as a list\n",
    "CategoryGroupLists= data.groupby(\"WFNS_Group\")[\"Total_SD\"].apply(list)\n",
    "print(CategoryGroupLists)\n",
    "# Performing the ANOVA test\n",
    "# We accept the Assumption(H0) only when P-Value &gt; 0.05\n",
    "AnovaResults = f_oneway(*CategoryGroupLists)\n",
    "print('P-Value for Anova is: ', AnovaResults[1])"
   ]
  },
  {
   "cell_type": "code",
   "execution_count": 89,
   "metadata": {},
   "outputs": [
    {
     "name": "stdout",
     "output_type": "stream",
     "text": [
      "WFNS_Group\n",
      "Low-grade                                  [9, 9, 16, 2, 23]\n",
      "high-grade    [24, 6, 4, 3, 4, 5, 4, 5, 4, 26, 22, 1, 11, 6]\n",
      "Name: Single_SD, dtype: object\n",
      "P-Value for Anova is:  0.5191788059389846\n"
     ]
    }
   ],
   "source": [
    "########################################################\n",
    "# Not valid\n",
    "########################################################\n",
    "# f_oneway() function takes the group data as input and \n",
    "# returns F-statistic and P-value\n",
    "from scipy.stats import f_oneway\n",
    " \n",
    "# Running the one-way anova test between CarPrice and FuelTypes\n",
    "# Assumption(H0) is that FuelType and CarPrices are NOT correlated\n",
    "\n",
    "# Finds out the Prices data for each FuelType as a list\n",
    "CategoryGroupLists= data.groupby(\"WFNS_Group\")[\"Single_SD\"].apply(list)\n",
    "print(CategoryGroupLists)\n",
    "# Performing the ANOVA test\n",
    "# We accept the Assumption(H0) only when P-Value &gt; 0.05\n",
    "AnovaResults = f_oneway(*CategoryGroupLists)\n",
    "print('P-Value for Anova is: ', AnovaResults[1])"
   ]
  },
  {
   "cell_type": "code",
   "execution_count": 90,
   "metadata": {},
   "outputs": [
    {
     "name": "stdout",
     "output_type": "stream",
     "text": [
      "WFNS_Group\n",
      "Low-grade                                   [0, 0, 0, 0, 6]\n",
      "high-grade    [22, 0, 0, 0, 0, 0, 0, 0, 0, 9, 0, 25, 0, 31]\n",
      "Name: Clusters_SD, dtype: object\n",
      "P-Value for Anova is:  0.34075278153640576\n"
     ]
    }
   ],
   "source": [
    "########################################################\n",
    "# Not valid\n",
    "########################################################\n",
    "# f_oneway() function takes the group data as input and \n",
    "# returns F-statistic and P-value\n",
    "from scipy.stats import f_oneway\n",
    " \n",
    "# Running the one-way anova test between CarPrice and FuelTypes\n",
    "# Assumption(H0) is that FuelType and CarPrices are NOT correlated\n",
    "\n",
    "# Finds out the Prices data for each FuelType as a list\n",
    "CategoryGroupLists= data.groupby(\"WFNS_Group\")[\"Clusters_SD\"].apply(list)\n",
    "print(CategoryGroupLists)\n",
    "# Performing the ANOVA test\n",
    "# We accept the Assumption(H0) only when P-Value &gt; 0.05\n",
    "AnovaResults = f_oneway(*CategoryGroupLists)\n",
    "print('P-Value for Anova is: ', AnovaResults[1])"
   ]
  },
  {
   "attachments": {},
   "cell_type": "markdown",
   "metadata": {},
   "source": [
    "### ANOVA with Sex"
   ]
  },
  {
   "cell_type": "code",
   "execution_count": 80,
   "metadata": {},
   "outputs": [
    {
     "name": "stdout",
     "output_type": "stream",
     "text": [
      "Sex\n",
      "F    [0.18, -0.04, 0.15, 0.05, 0.34, -0.08, 0.22, 0...\n",
      "M    [0.1, 0.26, 0.14, -0.2, 0.0, 0.16, 0.13, 0.24,...\n",
      "Name: Mean_LPRX, dtype: object\n",
      "P-Value for Anova is:  0.8464706176890578\n"
     ]
    }
   ],
   "source": [
    "########################################################\n",
    "# Not valid\n",
    "########################################################\n",
    "# f_oneway() function takes the group data as input and \n",
    "# returns F-statistic and P-value\n",
    "from scipy.stats import f_oneway\n",
    " \n",
    "# Running the one-way anova test between CarPrice and FuelTypes\n",
    "# Assumption(H0) is that FuelType and CarPrices are NOT correlated\n",
    "\n",
    "# Finds out the Prices data for each FuelType as a list\n",
    "CategoryGroupLists= data.groupby(\"Sex\")[\"Mean_LPRX\"].apply(list)\n",
    "print(CategoryGroupLists)\n",
    "# Performing the ANOVA test\n",
    "# We accept the Assumption(H0) only when P-Value &gt; 0.05\n",
    "AnovaResults = f_oneway(*CategoryGroupLists)\n",
    "print('P-Value for Anova is: ', AnovaResults[1])"
   ]
  },
  {
   "cell_type": "code",
   "execution_count": 81,
   "metadata": {},
   "outputs": [
    {
     "name": "stdout",
     "output_type": "stream",
     "text": [
      "Sex\n",
      "F    [55, 28, 68, 52, 54, 43, 46, 42, 53, 47]\n",
      "M        [38, 47, 78, 46, 52, 61, 48, 53, 47]\n",
      "Name: Age, dtype: object\n",
      "P-Value for Anova is:  0.5058241541624848\n"
     ]
    }
   ],
   "source": [
    "########################################################\n",
    "# Not valid\n",
    "########################################################\n",
    "# f_oneway() function takes the group data as input and \n",
    "# returns F-statistic and P-value\n",
    "from scipy.stats import f_oneway\n",
    " \n",
    "# Running the one-way anova test between CarPrice and FuelTypes\n",
    "# Assumption(H0) is that FuelType and CarPrices are NOT correlated\n",
    "\n",
    "# Finds out the Prices data for each FuelType as a list\n",
    "CategoryGroupLists= data.groupby(\"Sex\")[\"Age\"].apply(list)\n",
    "print(CategoryGroupLists)\n",
    "# Performing the ANOVA test\n",
    "# We accept the Assumption(H0) only when P-Value &gt; 0.05\n",
    "AnovaResults = f_oneway(*CategoryGroupLists)\n",
    "print('P-Value for Anova is: ', AnovaResults[1])"
   ]
  },
  {
   "cell_type": "code",
   "execution_count": 82,
   "metadata": {},
   "outputs": [
    {
     "name": "stdout",
     "output_type": "stream",
     "text": [
      "Sex\n",
      "F    [22, 0, 0, 0, 0, 0, 0, 0, 25, 31]\n",
      "M          [0, 0, 0, 0, 0, 9, 0, 0, 6]\n",
      "Name: Clusters_SD, dtype: object\n",
      "P-Value for Anova is:  0.1805746527532237\n"
     ]
    }
   ],
   "source": [
    "########################################################\n",
    "# Not valid\n",
    "########################################################\n",
    "# f_oneway() function takes the group data as input and \n",
    "# returns F-statistic and P-value\n",
    "from scipy.stats import f_oneway\n",
    " \n",
    "# Running the one-way anova test between CarPrice and FuelTypes\n",
    "# Assumption(H0) is that FuelType and CarPrices are NOT correlated\n",
    "\n",
    "# Finds out the Prices data for each FuelType as a list\n",
    "CategoryGroupLists= data.groupby(\"Sex\")[\"Clusters_SD\"].apply(list)\n",
    "print(CategoryGroupLists)\n",
    "# Performing the ANOVA test\n",
    "# We accept the Assumption(H0) only when P-Value &gt; 0.05\n",
    "AnovaResults = f_oneway(*CategoryGroupLists)\n",
    "print('P-Value for Anova is: ', AnovaResults[1])"
   ]
  },
  {
   "cell_type": "code",
   "execution_count": 83,
   "metadata": {},
   "outputs": [
    {
     "name": "stdout",
     "output_type": "stream",
     "text": [
      "Sex\n",
      "F    [24, 4, 9, 4, 5, 16, 2, 22, 1, 6]\n",
      "M       [6, 3, 5, 4, 4, 26, 9, 11, 23]\n",
      "Name: Single_SD, dtype: object\n",
      "P-Value for Anova is:  0.8373371721411912\n"
     ]
    }
   ],
   "source": [
    "########################################################\n",
    "# Not valid\n",
    "########################################################\n",
    "# f_oneway() function takes the group data as input and \n",
    "# returns F-statistic and P-value\n",
    "from scipy.stats import f_oneway\n",
    " \n",
    "# Running the one-way anova test between CarPrice and FuelTypes\n",
    "# Assumption(H0) is that FuelType and CarPrices are NOT correlated\n",
    "\n",
    "# Finds out the Prices data for each FuelType as a list\n",
    "CategoryGroupLists= data.groupby(\"Sex\")[\"Single_SD\"].apply(list)\n",
    "print(CategoryGroupLists)\n",
    "# Performing the ANOVA test\n",
    "# We accept the Assumption(H0) only when P-Value &gt; 0.05\n",
    "AnovaResults = f_oneway(*CategoryGroupLists)\n",
    "print('P-Value for Anova is: ', AnovaResults[1])"
   ]
  },
  {
   "cell_type": "code",
   "execution_count": 84,
   "metadata": {},
   "outputs": [
    {
     "name": "stdout",
     "output_type": "stream",
     "text": [
      "Sex\n",
      "F    [4.6, 0.4, 0.0, 0.6, 0.7, 1.9, 0.7, 2.6, 1.9, ...\n",
      "M        [1.1, 0.8, 0.6, 0.4, 1.0, 2.9, 0.8, 1.3, 2.0]\n",
      "Name: SD_Day, dtype: object\n",
      "P-Value for Anova is:  0.2935691980490926\n"
     ]
    }
   ],
   "source": [
    "########################################################\n",
    "# Not valid\n",
    "########################################################\n",
    "# f_oneway() function takes the group data as input and \n",
    "# returns F-statistic and P-value\n",
    "from scipy.stats import f_oneway\n",
    " \n",
    "# Running the one-way anova test between CarPrice and FuelTypes\n",
    "# Assumption(H0) is that FuelType and CarPrices are NOT correlated\n",
    "\n",
    "# Finds out the Prices data for each FuelType as a list\n",
    "CategoryGroupLists= data.groupby(\"Sex\")[\"SD_Day\"].apply(list)\n",
    "print(CategoryGroupLists)\n",
    "# Performing the ANOVA test\n",
    "# We accept the Assumption(H0) only when P-Value &gt; 0.05\n",
    "AnovaResults = f_oneway(*CategoryGroupLists)\n",
    "print('P-Value for Anova is: ', AnovaResults[1])"
   ]
  },
  {
   "attachments": {},
   "cell_type": "markdown",
   "metadata": {},
   "source": [
    "### ANOVA with DCI"
   ]
  },
  {
   "cell_type": "code",
   "execution_count": 75,
   "metadata": {},
   "outputs": [
    {
     "name": "stdout",
     "output_type": "stream",
     "text": [
      "DCI\n",
      "No          [0.26, 0.15, -0.2, 0.34, 0.16, 0.13, -0.08, 0....\n",
      "Probably                                         [0.11, 0.15]\n",
      "Yes                       [0.18, 0.1, -0.04, 0.05, 0.14, 0.0]\n",
      "Name: Mean_LPRX, dtype: object\n",
      "P-Value for Anova is:  0.7149711592258103\n"
     ]
    }
   ],
   "source": [
    "########################################################\n",
    "# valid\n",
    "########################################################\n",
    "# f_oneway() function takes the group data as input and \n",
    "# returns F-statistic and P-value\n",
    "from scipy.stats import f_oneway\n",
    " \n",
    "# Running the one-way anova test between CarPrice and FuelTypes\n",
    "# Assumption(H0) is that FuelType and CarPrices are NOT correlated\n",
    "\n",
    "# Finds out the Prices data for each FuelType as a list\n",
    "CategoryGroupLists= data.groupby(\"DCI\")[\"Mean_LPRX\"].apply(list)\n",
    "print(CategoryGroupLists)\n",
    "# Performing the ANOVA test\n",
    "# We accept the Assumption(H0) only when P-Value &gt; 0.05\n",
    "AnovaResults = f_oneway(*CategoryGroupLists)\n",
    "print('P-Value for Anova is: ', AnovaResults[1])"
   ]
  },
  {
   "cell_type": "code",
   "execution_count": 76,
   "metadata": {},
   "outputs": [
    {
     "name": "stdout",
     "output_type": "stream",
     "text": [
      "DCI\n",
      "No          [47, 68, 46, 54, 61, 48, 43, 46, 53, 47, 47]\n",
      "Probably                                        [42, 53]\n",
      "Yes                             [55, 38, 28, 52, 78, 52]\n",
      "Name: Age, dtype: object\n",
      "P-Value for Anova is:  0.9271775693006211\n"
     ]
    }
   ],
   "source": [
    "########################################################\n",
    "# valid\n",
    "########################################################\n",
    "# f_oneway() function takes the group data as input and \n",
    "# returns F-statistic and P-value\n",
    "from scipy.stats import f_oneway\n",
    " \n",
    "# Running the one-way anova test between CarPrice and FuelTypes\n",
    "# Assumption(H0) is that FuelType and CarPrices are NOT correlated\n",
    "\n",
    "# Finds out the Prices data for each FuelType as a list\n",
    "CategoryGroupLists= data.groupby(\"DCI\")[\"Age\"].apply(list)\n",
    "print(CategoryGroupLists)\n",
    "# Performing the ANOVA test\n",
    "# We accept the Assumption(H0) only when P-Value &gt; 0.05\n",
    "AnovaResults = f_oneway(*CategoryGroupLists)\n",
    "print('P-Value for Anova is: ', AnovaResults[1])"
   ]
  },
  {
   "cell_type": "code",
   "execution_count": 77,
   "metadata": {},
   "outputs": [
    {
     "name": "stdout",
     "output_type": "stream",
     "text": [
      "DCI\n",
      "No          [0, 0, 0, 0, 9, 0, 0, 0, 0, 6, 31]\n",
      "Probably                               [0, 25]\n",
      "Yes                        [22, 0, 0, 0, 0, 0]\n",
      "Name: Clusters_SD, dtype: object\n",
      "P-Value for Anova is:  0.5347970936513403\n"
     ]
    }
   ],
   "source": [
    "########################################################\n",
    "# valid\n",
    "########################################################\n",
    "# f_oneway() function takes the group data as input and \n",
    "# returns F-statistic and P-value\n",
    "from scipy.stats import f_oneway\n",
    " \n",
    "# Running the one-way anova test between CarPrice and FuelTypes\n",
    "# Assumption(H0) is that FuelType and CarPrices are NOT correlated\n",
    "\n",
    "# Finds out the Prices data for each FuelType as a list\n",
    "CategoryGroupLists= data.groupby(\"DCI\")[\"Clusters_SD\"].apply(list)\n",
    "print(CategoryGroupLists)\n",
    "# Performing the ANOVA test\n",
    "# We accept the Assumption(H0) only when P-Value &gt; 0.05\n",
    "AnovaResults = f_oneway(*CategoryGroupLists)\n",
    "print('P-Value for Anova is: ', AnovaResults[1])"
   ]
  },
  {
   "cell_type": "code",
   "execution_count": 78,
   "metadata": {},
   "outputs": [
    {
     "name": "stdout",
     "output_type": "stream",
     "text": [
      "DCI\n",
      "No          [3, 9, 4, 5, 26, 9, 16, 2, 11, 23, 6]\n",
      "Probably                                  [22, 1]\n",
      "Yes                           [24, 6, 4, 4, 5, 4]\n",
      "Name: Single_SD, dtype: object\n",
      "P-Value for Anova is:  0.8075192115736787\n"
     ]
    }
   ],
   "source": [
    "########################################################\n",
    "# valid\n",
    "########################################################\n",
    "# f_oneway() function takes the group data as input and \n",
    "# returns F-statistic and P-value\n",
    "from scipy.stats import f_oneway\n",
    " \n",
    "# Running the one-way anova test between CarPrice and FuelTypes\n",
    "# Assumption(H0) is that FuelType and CarPrices are NOT correlated\n",
    "\n",
    "# Finds out the Prices data for each FuelType as a list\n",
    "CategoryGroupLists= data.groupby(\"DCI\")[\"Single_SD\"].apply(list)\n",
    "print(CategoryGroupLists)\n",
    "# Performing the ANOVA test\n",
    "# We accept the Assumption(H0) only when P-Value &gt; 0.05\n",
    "AnovaResults = f_oneway(*CategoryGroupLists)\n",
    "print('P-Value for Anova is: ', AnovaResults[1])"
   ]
  },
  {
   "cell_type": "code",
   "execution_count": 79,
   "metadata": {},
   "outputs": [
    {
     "name": "stdout",
     "output_type": "stream",
     "text": [
      "DCI\n",
      "No          [0.8, 0.0, 0.4, 0.7, 2.9, 0.8, 1.9, 0.7, 1.3, ...\n",
      "Probably                                           [2.6, 1.9]\n",
      "Yes                            [4.6, 1.1, 0.4, 0.6, 0.6, 1.0]\n",
      "Name: SD_Day, dtype: object\n",
      "P-Value for Anova is:  0.8581095845488489\n"
     ]
    }
   ],
   "source": [
    "########################################################\n",
    "# valid\n",
    "########################################################\n",
    "# f_oneway() function takes the group data as input and \n",
    "# returns F-statistic and P-value\n",
    "from scipy.stats import f_oneway\n",
    " \n",
    "# Running the one-way anova test between CarPrice and FuelTypes\n",
    "# Assumption(H0) is that FuelType and CarPrices are NOT correlated\n",
    "\n",
    "# Finds out the Prices data for each FuelType as a list\n",
    "CategoryGroupLists= data.groupby(\"DCI\")[\"SD_Day\"].apply(list)\n",
    "print(CategoryGroupLists)\n",
    "# Performing the ANOVA test\n",
    "# We accept the Assumption(H0) only when P-Value &gt; 0.05\n",
    "AnovaResults = f_oneway(*CategoryGroupLists)\n",
    "print('P-Value for Anova is: ', AnovaResults[1])"
   ]
  },
  {
   "cell_type": "code",
   "execution_count": 131,
   "metadata": {},
   "outputs": [
    {
     "name": "stdout",
     "output_type": "stream",
     "text": [
      "DCI\n",
      "No          [3, 9, 4, 5, 35, 9, 16, 2, 11, 29, 37]\n",
      "Probably                                  [22, 26]\n",
      "Yes                            [46, 6, 4, 4, 5, 4]\n",
      "Name: Total_SD, dtype: object\n",
      "P-Value for Anova is:  0.5621830134577966\n"
     ]
    }
   ],
   "source": [
    "########################################################\n",
    "# valid\n",
    "########################################################\n",
    "# f_oneway() function takes the group data as input and \n",
    "# returns F-statistic and P-value\n",
    "from scipy.stats import f_oneway\n",
    " \n",
    "# Running the one-way anova test between CarPrice and FuelTypes\n",
    "# Assumption(H0) is that FuelType and CarPrices are NOT correlated\n",
    "\n",
    "# Finds out the Prices data for each FuelType as a list\n",
    "CategoryGroupLists= data.groupby(\"DCI\")[\"Total_SD\"].apply(list)\n",
    "print(CategoryGroupLists)\n",
    "# Performing the ANOVA test\n",
    "# We accept the Assumption(H0) only when P-Value &gt; 0.05\n",
    "AnovaResults = f_oneway(*CategoryGroupLists)\n",
    "print('P-Value for Anova is: ', AnovaResults[1])"
   ]
  },
  {
   "attachments": {},
   "cell_type": "markdown",
   "metadata": {},
   "source": [
    "### ANOVA with Aneurysm Location"
   ]
  },
  {
   "cell_type": "code",
   "execution_count": 69,
   "metadata": {},
   "outputs": [
    {
     "name": "stdout",
     "output_type": "stream",
     "text": [
      "Aneursym_location\n",
      "Acom            [0.18, 0.1, 0.26, 0.0, 0.16, 0.11, 0.15, 0.24]\n",
      "ICA-L (Pcom)                                            [0.13]\n",
      "ICA-R                                            [-0.04, 0.05]\n",
      "ICA-R (Pcom)                                            [0.14]\n",
      "MCA-L                    [-0.2, 0.34, -0.08, 0.22, 0.09, 0.06]\n",
      "MCA-R                                                   [0.15]\n",
      "Name: Mean_LPRX, dtype: object\n",
      "P-Value for Anova is:  0.7728576133456618\n"
     ]
    }
   ],
   "source": [
    "########################################################\n",
    "# Not valid\n",
    "########################################################\n",
    "# f_oneway() function takes the group data as input and \n",
    "# returns F-statistic and P-value\n",
    "from scipy.stats import f_oneway\n",
    " \n",
    "# Running the one-way anova test between CarPrice and FuelTypes\n",
    "# Assumption(H0) is that FuelType and CarPrices are NOT correlated\n",
    "# \tTotal_SD\tSingle_SD\tClusters_SD\tMean_LPRX\n",
    "# Finds out the Prices data for each FuelType as a list\n",
    "CategoryGroupLists= data.groupby(\"Aneursym_location\")[\"Mean_LPRX\"].apply(list)\n",
    "print(CategoryGroupLists)\n",
    "# Performing the ANOVA test\n",
    "# We accept the Assumption(H0) only when P-Value &gt; 0.05\n",
    "AnovaResults = f_oneway(*CategoryGroupLists)\n",
    "print('P-Value for Anova is: ', AnovaResults[1])"
   ]
  },
  {
   "cell_type": "code",
   "execution_count": 72,
   "metadata": {},
   "outputs": [
    {
     "name": "stdout",
     "output_type": "stream",
     "text": [
      "Aneursym_location\n",
      "Acom            [22, 0, 0, 0, 9, 0, 25, 0]\n",
      "ICA-L (Pcom)                           [0]\n",
      "ICA-R                               [0, 0]\n",
      "ICA-R (Pcom)                           [0]\n",
      "MCA-L                  [0, 0, 0, 0, 6, 31]\n",
      "MCA-R                                  [0]\n",
      "Name: Clusters_SD, dtype: object\n",
      "P-Value for Anova is:  0.9194270892400721\n"
     ]
    }
   ],
   "source": [
    "########################################################\n",
    "# Not valid\n",
    "########################################################\n",
    "# f_oneway() function takes the group data as input and \n",
    "# returns F-statistic and P-value\n",
    "from scipy.stats import f_oneway\n",
    " \n",
    "# Running the one-way anova test between CarPrice and FuelTypes\n",
    "# Assumption(H0) is that FuelType and CarPrices are NOT correlated\n",
    "# \tTotal_SD\tSingle_SD\tClusters_SD\tMean_LPRX\n",
    "# Finds out the Prices data for each FuelType as a list\n",
    "CategoryGroupLists= data.groupby(\"Aneursym_location\")[\"Clusters_SD\"].apply(list)\n",
    "print(CategoryGroupLists)\n",
    "# Performing the ANOVA test\n",
    "# We accept the Assumption(H0) only when P-Value &gt; 0.05\n",
    "AnovaResults = f_oneway(*CategoryGroupLists)\n",
    "print('P-Value for Anova is: ', AnovaResults[1])"
   ]
  },
  {
   "cell_type": "code",
   "execution_count": 74,
   "metadata": {},
   "outputs": [
    {
     "name": "stdout",
     "output_type": "stream",
     "text": [
      "Aneursym_location\n",
      "Acom            [24, 6, 3, 4, 26, 22, 1, 11]\n",
      "ICA-L (Pcom)                             [9]\n",
      "ICA-R                                 [4, 4]\n",
      "ICA-R (Pcom)                             [5]\n",
      "MCA-L                   [4, 5, 16, 2, 23, 6]\n",
      "MCA-R                                    [9]\n",
      "Name: Single_SD, dtype: object\n",
      "P-Value for Anova is:  0.8888474237688729\n"
     ]
    }
   ],
   "source": [
    "########################################################\n",
    "# f_oneway() function takes the group data as input and \n",
    "# returns F-statistic and P-value\n",
    "from scipy.stats import f_oneway\n",
    " \n",
    "# Running the one-way anova test between CarPrice and FuelTypes\n",
    "# Assumption(H0) is that FuelType and CarPrices are NOT correlated\n",
    "# \tTotal_SD\tSingle_SD\tClusters_SD\tMean_LPRX\n",
    "# Finds out the Prices data for each FuelType as a list\n",
    "CategoryGroupLists= data.groupby(\"Aneursym_location\")[\"Single_SD\"].apply(list)\n",
    "print(CategoryGroupLists)\n",
    "# Performing the ANOVA test\n",
    "# We accept the Assumption(H0) only when P-Value &gt; 0.05\n",
    "AnovaResults = f_oneway(*CategoryGroupLists)\n",
    "print('P-Value for Anova is: ', AnovaResults[1])"
   ]
  },
  {
   "cell_type": "code",
   "execution_count": 71,
   "metadata": {},
   "outputs": [
    {
     "name": "stdout",
     "output_type": "stream",
     "text": [
      "Aneursym_location\n",
      "Acom            [4.6, 1.1, 0.8, 1.0, 2.9, 2.6, 1.9, 1.3]\n",
      "ICA-L (Pcom)                                       [0.8]\n",
      "ICA-R                                         [0.4, 0.6]\n",
      "ICA-R (Pcom)                                       [0.6]\n",
      "MCA-L                     [0.4, 0.7, 1.9, 0.7, 2.0, 8.7]\n",
      "MCA-R                                              [0.0]\n",
      "Name: SD_Day, dtype: object\n",
      "P-Value for Anova is:  0.7797286991724199\n"
     ]
    }
   ],
   "source": [
    "########################################################\n",
    "# f_oneway() function takes the group data as input and \n",
    "# returns F-statistic and P-value\n",
    "from scipy.stats import f_oneway\n",
    " \n",
    "# Running the one-way anova test between CarPrice and FuelTypes\n",
    "# Assumption(H0) is that FuelType and CarPrices are NOT correlated\n",
    "# SD_Day\tTotal_SD\tSingle_SD\tClusters_SD\tMean_LPRX\n",
    "# Finds out the Prices data for each FuelType as a list\n",
    "CategoryGroupLists= data.groupby(\"Aneursym_location\")[\"SD_Day\"].apply(list)\n",
    "print(CategoryGroupLists)\n",
    "# Performing the ANOVA test\n",
    "# We accept the Assumption(H0) only when P-Value &gt; 0.05\n",
    "AnovaResults = f_oneway(*CategoryGroupLists)\n",
    "print('P-Value for Anova is: ', AnovaResults[1])"
   ]
  },
  {
   "cell_type": "code",
   "execution_count": 129,
   "metadata": {},
   "outputs": [
    {
     "name": "stdout",
     "output_type": "stream",
     "text": [
      "Aneursym_location\n",
      "Acom            [46, 6, 3, 4, 35, 22, 26, 11]\n",
      "ICA-L (Pcom)                              [9]\n",
      "ICA-R                                  [4, 4]\n",
      "ICA-R (Pcom)                              [5]\n",
      "MCA-L                   [4, 5, 16, 2, 29, 37]\n",
      "MCA-R                                     [9]\n",
      "Name: Total_SD, dtype: object\n",
      "P-Value for Anova is:  0.7680289278879051\n"
     ]
    }
   ],
   "source": [
    "########################################################\n",
    "# f_oneway() function takes the group data as input and \n",
    "# returns F-statistic and P-value\n",
    "from scipy.stats import f_oneway\n",
    " \n",
    "# Running the one-way anova test between CarPrice and FuelTypes\n",
    "# Assumption(H0) is that FuelType and CarPrices are NOT correlated\n",
    "# SD_Day\tTotal_SD\tSingle_SD\tClusters_SD\tMean_LPRX\n",
    "# Finds out the Prices data for each FuelType as a list\n",
    "CategoryGroupLists= data.groupby(\"Aneursym_location\")[\"Total_SD\"].apply(list)\n",
    "print(CategoryGroupLists)\n",
    "# Performing the ANOVA test\n",
    "# We accept the Assumption(H0) only when P-Value &gt; 0.05\n",
    "AnovaResults = f_oneway(*CategoryGroupLists)\n",
    "print('P-Value for Anova is: ', AnovaResults[1])"
   ]
  },
  {
   "cell_type": "code",
   "execution_count": 70,
   "metadata": {},
   "outputs": [
    {
     "name": "stdout",
     "output_type": "stream",
     "text": [
      "Aneursym_location\n",
      "Acom            [55, 38, 47, 52, 61, 42, 53, 53]\n",
      "ICA-L (Pcom)                                [48]\n",
      "ICA-R                                   [28, 52]\n",
      "ICA-R (Pcom)                                [78]\n",
      "MCA-L                   [46, 54, 43, 46, 47, 47]\n",
      "MCA-R                                       [68]\n",
      "Name: Age, dtype: object\n",
      "P-Value for Anova is:  0.01075408655376969\n"
     ]
    }
   ],
   "source": [
    "########################################################\n",
    "# f_oneway() function takes the group data as input and \n",
    "# returns F-statistic and P-value\n",
    "from scipy.stats import f_oneway\n",
    " \n",
    "# Running the one-way anova test between CarPrice and FuelTypes\n",
    "# Assumption(H0) is that FuelType and CarPrices are NOT correlated\n",
    "\n",
    "# Finds out the Prices data for each FuelType as a list\n",
    "CategoryGroupLists= data.groupby(\"Aneursym_location\")[\"Age\"].apply(list)\n",
    "print(CategoryGroupLists)\n",
    "# Performing the ANOVA test\n",
    "# We accept the Assumption(H0) only when P-Value &gt; 0.05\n",
    "AnovaResults = f_oneway(*CategoryGroupLists)\n",
    "print('P-Value for Anova is: ', AnovaResults[1])"
   ]
  },
  {
   "attachments": {},
   "cell_type": "markdown",
   "metadata": {},
   "source": [
    "### DCI vs Aneursym Location"
   ]
  },
  {
   "cell_type": "code",
   "execution_count": 98,
   "metadata": {},
   "outputs": [
    {
     "name": "stdout",
     "output_type": "stream",
     "text": [
      "Aneursym_location  Acom  ICA-L (Pcom)  ICA-R  ICA-R (Pcom)  MCA-L  MCA-R\n",
      "DCI                                                                     \n",
      "No                    3             1      0             0      6      1\n",
      "Probably              2             0      0             0      0      0\n",
      "Yes                   3             0      2             1      0      0\n",
      "The P-Value of the ChiSq Test is: 0.14838752984417053\n"
     ]
    }
   ],
   "source": [
    "########################################################\n",
    "# valid\n",
    "########################################################\n",
    "# Cross tabulation between GENDER and APPROVE_LOAN\n",
    "CrosstabResult=pd.crosstab(index=data['DCI'],columns=data['Aneursym_location'])\n",
    "print(CrosstabResult)\n",
    " \n",
    "# importing the required function\n",
    "from scipy.stats import chi2_contingency\n",
    " \n",
    "# Performing Chi-sq test\n",
    "ChiSqResult = chi2_contingency(CrosstabResult)\n",
    " \n",
    "# P-Value is the Probability of H0 being True\n",
    "# If P-Value>0.05 then only we Accept the assumption(H0)\n",
    " \n",
    "print('The P-Value of the ChiSq Test is:', ChiSqResult[1])"
   ]
  },
  {
   "cell_type": "code",
   "execution_count": 100,
   "metadata": {},
   "outputs": [
    {
     "name": "stdout",
     "output_type": "stream",
     "text": [
      "Sex       F  M\n",
      "DCI           \n",
      "No        5  6\n",
      "Probably  2  0\n",
      "Yes       3  3\n",
      "The P-Value of the ChiSq Test is: 0.35988537645429286\n"
     ]
    }
   ],
   "source": [
    "########################################################\n",
    "# valid\n",
    "########################################################\n",
    "# Cross tabulation between GENDER and APPROVE_LOAN\n",
    "CrosstabResult=pd.crosstab(index=data['DCI'],columns=data['Sex'])\n",
    "print(CrosstabResult)\n",
    " \n",
    "# importing the required function\n",
    "from scipy.stats import chi2_contingency\n",
    " \n",
    "# Performing Chi-sq test\n",
    "ChiSqResult = chi2_contingency(CrosstabResult)\n",
    " \n",
    "# P-Value is the Probability of H0 being True\n",
    "# If P-Value>0.05 then only we Accept the assumption(H0)\n",
    " \n",
    "print('The P-Value of the ChiSq Test is:', ChiSqResult[1])"
   ]
  },
  {
   "cell_type": "code",
   "execution_count": 130,
   "metadata": {},
   "outputs": [
    {
     "name": "stdout",
     "output_type": "stream",
     "text": [
      "Sex                F  M\n",
      "Aneursym_location      \n",
      "Acom               3  5\n",
      "ICA-L (Pcom)       0  1\n",
      "ICA-R              2  0\n",
      "ICA-R (Pcom)       0  1\n",
      "MCA-L              4  2\n",
      "MCA-R              1  0\n",
      "The P-Value of the ChiSq Test is: 0.29367824179125046\n"
     ]
    }
   ],
   "source": [
    "########################################################\n",
    "# Not valid\n",
    "# Kruskal-Wallis Test\n",
    "########################################################\n",
    "# Cross tabulation between GENDER and APPROVE_LOAN\n",
    "CrosstabResult=pd.crosstab(index=data['Aneursym_location'],columns=data['Sex'])\n",
    "print(CrosstabResult)\n",
    " \n",
    "# importing the required function\n",
    "from scipy.stats import chi2_contingency\n",
    " \n",
    "# Performing Chi-sq test\n",
    "ChiSqResult = chi2_contingency(CrosstabResult)\n",
    " \n",
    "# P-Value is the Probability of H0 being True\n",
    "# If P-Value>0.05 then only we Accept the assumption(H0)\n",
    " \n",
    "print('The P-Value of the ChiSq Test is:', ChiSqResult[1])"
   ]
  },
  {
   "cell_type": "code",
   "execution_count": 101,
   "metadata": {},
   "outputs": [
    {
     "name": "stdout",
     "output_type": "stream",
     "text": [
      "WFNS_Group  Low-grade  high-grade\n",
      "DCI                              \n",
      "No                  5           6\n",
      "Probably            0           2\n",
      "Yes                 0           6\n",
      "The P-Value of the ChiSq Test is: 0.08479383260595784\n"
     ]
    }
   ],
   "source": [
    "########################################################\n",
    "# Not valid\n",
    "# Kruskal-Wallis Test\n",
    "########################################################\n",
    "# Cross tabulation between GENDER and APPROVE_LOAN\n",
    "CrosstabResult=pd.crosstab(index=data['DCI'],columns=data['WFNS_Group'])\n",
    "print(CrosstabResult)\n",
    " \n",
    "# importing the required function\n",
    "from scipy.stats import chi2_contingency\n",
    " \n",
    "# Performing Chi-sq test\n",
    "ChiSqResult = chi2_contingency(CrosstabResult)\n",
    " \n",
    "# P-Value is the Probability of H0 being True\n",
    "# If P-Value>0.05 then only we Accept the assumption(H0)\n",
    " \n",
    "print('The P-Value of the ChiSq Test is:', ChiSqResult[1])"
   ]
  },
  {
   "cell_type": "code",
   "execution_count": 102,
   "metadata": {},
   "outputs": [
    {
     "name": "stdout",
     "output_type": "stream",
     "text": [
      "WFNS      2  3  4  5\n",
      "DCI                 \n",
      "No        1  4  4  2\n",
      "Probably  0  0  1  1\n",
      "Yes       0  0  2  4\n",
      "The P-Value of the ChiSq Test is: 0.3869038966615515\n"
     ]
    }
   ],
   "source": [
    "########################################################\n",
    "# Not valid\n",
    "# Kruskal-Wallis Test\n",
    "########################################################\n",
    "# Cross tabulation between GENDER and APPROVE_LOAN\n",
    "CrosstabResult=pd.crosstab(index=data['DCI'],columns=data['WFNS'])\n",
    "print(CrosstabResult)\n",
    " \n",
    "# importing the required function\n",
    "from scipy.stats import chi2_contingency\n",
    " \n",
    "# Performing Chi-sq test\n",
    "ChiSqResult = chi2_contingency(CrosstabResult)\n",
    " \n",
    "# P-Value is the Probability of H0 being True\n",
    "# If P-Value>0.05 then only we Accept the assumption(H0)\n",
    " \n",
    "print('The P-Value of the ChiSq Test is:', ChiSqResult[1])"
   ]
  },
  {
   "cell_type": "code",
   "execution_count": 99,
   "metadata": {},
   "outputs": [
    {
     "data": {
      "text/plain": [
       "Index(['Patient', 'Age', 'Sex', 'WFNS_Group', 'WFNS', 'Aneursym_location',\n",
       "       'DCI', 'eGOS', 'SD_Day', 'Total_SD', 'Single_SD', 'Clusters_SD',\n",
       "       'Mean_LPRX', 'Sex_Num', 'WFNS_Group_Num'],\n",
       "      dtype='object')"
      ]
     },
     "execution_count": 99,
     "metadata": {},
     "output_type": "execute_result"
    }
   ],
   "source": [
    "data.columns"
   ]
  }
 ],
 "metadata": {
  "kernelspec": {
   "display_name": "venv-computer-vision",
   "language": "python",
   "name": "python3"
  },
  "language_info": {
   "codemirror_mode": {
    "name": "ipython",
    "version": 3
   },
   "file_extension": ".py",
   "mimetype": "text/x-python",
   "name": "python",
   "nbconvert_exporter": "python",
   "pygments_lexer": "ipython3",
   "version": "3.10.6"
  },
  "orig_nbformat": 4
 },
 "nbformat": 4,
 "nbformat_minor": 2
}
